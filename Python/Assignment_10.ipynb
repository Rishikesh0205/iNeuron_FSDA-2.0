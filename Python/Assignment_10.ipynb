{
 "cells": [
  {
   "cell_type": "code",
   "execution_count": null,
   "id": "fa12326f",
   "metadata": {},
   "outputs": [],
   "source": [
    "1. How do you distinguish between shutil.copy() and shutil.copytree()?"
   ]
  },
  {
   "cell_type": "code",
   "execution_count": null,
   "id": "d9a5c80d",
   "metadata": {},
   "outputs": [],
   "source": [
    "shutil.copy() is used to copy individual files from a source (src) location to a destination (dst) location whereas shutil.copytree() is used to copy an entire directory (including its contents) from a source (src) location to a destination (dst) location."
   ]
  },
  {
   "cell_type": "code",
   "execution_count": null,
   "id": "dd7555e0",
   "metadata": {},
   "outputs": [],
   "source": [
    "2. What function is used to rename files??"
   ]
  },
  {
   "cell_type": "code",
   "execution_count": null,
   "id": "64988c8e",
   "metadata": {},
   "outputs": [],
   "source": [
    "The shutil.move() function is used to rename files in Python. "
   ]
  },
  {
   "cell_type": "code",
   "execution_count": null,
   "id": "93aaca67",
   "metadata": {},
   "outputs": [],
   "source": [
    "3. What is the difference between the delete functions in the send2trash and shutil modules?"
   ]
  },
  {
   "cell_type": "raw",
   "id": "176d4f55",
   "metadata": {},
   "source": [
    "The send2trash module is a cross-platform library that sends files or directories to the system's trash or recycle bin. However, shutil module provides a variety of file operations, including copying, moving, and deleting files and directories."
   ]
  },
  {
   "cell_type": "code",
   "execution_count": null,
   "id": "447e5eb8",
   "metadata": {},
   "outputs": [],
   "source": [
    "4.ZipFile objects have a close() method just like File objects’ close() method. What ZipFile method is equivalent to File objects’ open() method?"
   ]
  },
  {
   "cell_type": "code",
   "execution_count": null,
   "id": "14d905ab",
   "metadata": {},
   "outputs": [],
   "source": [
    "zipfile.ZipFile() constructor is equivalent to File objects’ open() method."
   ]
  },
  {
   "cell_type": "code",
   "execution_count": null,
   "id": "f4c4e38f",
   "metadata": {},
   "outputs": [],
   "source": [
    "5. Create a programme that searches a folder tree for files with a certain file extension (such as .pdf or .jpg). Copy these files from whatever location they are in to a new folder."
   ]
  },
  {
   "cell_type": "code",
   "execution_count": null,
   "id": "0db0b2e3",
   "metadata": {},
   "outputs": [],
   "source": [
    "import os\n",
    "import shutil\n",
    "\n",
    "def find_and_copy_files(source_folder, destination_folder, file_extension):\n",
    "    # Ensure the source and destination folders exist\n",
    "    if not os.path.exists(destination_folder):\n",
    "        os.makedirs(destination_folder)\n",
    "\n",
    "    for foldername, subfolders, filenames in os.walk(source_folder):\n",
    "        for filename in filenames:\n",
    "            if filename.lower().endswith(file_extension):\n",
    "                source_path = os.path.join(foldername, filename)\n",
    "                destination_path = os.path.join(destination_folder, filename)\n",
    "                try:\n",
    "                    shutil.copy(source_path, destination_path)\n",
    "                    print(f\"Copied: {source_path} -> {destination_path}\")\n",
    "                except Exception as e:\n",
    "                    print(f\"Error copying {source_path}: {str(e)}\")\n",
    "\n",
    "if __name__ == \"__main__\":\n",
    "    source_folder = \"/path/to/source_folder\"  # Replace with the source folder path\n",
    "    destination_folder = \"/path/to/destination_folder\"  # Replace with the destination folder path\n",
    "    file_extension = \".pdf\"  # Replace with the desired file extension\n",
    "\n",
    "    find_and_copy_files(source_folder, destination_folder, file_extension)\n"
   ]
  }
 ],
 "metadata": {
  "kernelspec": {
   "display_name": "Python 3 (ipykernel)",
   "language": "python",
   "name": "python3"
  },
  "language_info": {
   "codemirror_mode": {
    "name": "ipython",
    "version": 3
   },
   "file_extension": ".py",
   "mimetype": "text/x-python",
   "name": "python",
   "nbconvert_exporter": "python",
   "pygments_lexer": "ipython3",
   "version": "3.9.13"
  }
 },
 "nbformat": 4,
 "nbformat_minor": 5
}
