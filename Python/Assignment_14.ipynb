{
 "cells": [
  {
   "cell_type": "code",
   "execution_count": null,
   "id": "b561983b",
   "metadata": {},
   "outputs": [],
   "source": [
    "1. What does RGBA stand for?"
   ]
  },
  {
   "cell_type": "code",
   "execution_count": null,
   "id": "66639663",
   "metadata": {},
   "outputs": [],
   "source": [
    "\n",
    "RGBA stands for Red, Green, Blue, and Alpha. It is a color model used in computer graphics and image processing to represent colors with red, green, and blue components along with an additional alpha component, which represents the level of transparency or opacity. "
   ]
  },
  {
   "cell_type": "code",
   "execution_count": null,
   "id": "a11f58e5",
   "metadata": {},
   "outputs": [],
   "source": [
    "2. From the Pillow module, how do you get the RGBA value of any images?"
   ]
  },
  {
   "cell_type": "code",
   "execution_count": null,
   "id": "eb3ec86b",
   "metadata": {},
   "outputs": [],
   "source": [
    "from PIL import Image\n",
    "\n",
    "# Open an image file\n",
    "image = Image.open(\"your_image.png\")\n",
    "\n",
    "# Get the RGBA value of a specific pixel (x, y)\n",
    "x = 100\n",
    "y = 50\n",
    "rgba = image.getpixel((x, y))\n",
    "\n",
    "# The `rgba` variable now contains a tuple (R, G, B, A) representing the color and alpha value of the pixel.\n",
    "print(\"RGBA value at pixel ({}, {}): {}\".format(x, y, rgba))\n"
   ]
  },
  {
   "cell_type": "code",
   "execution_count": null,
   "id": "d09f565f",
   "metadata": {},
   "outputs": [],
   "source": [
    "3. What is a box tuple, and how does it work?"
   ]
  },
  {
   "cell_type": "code",
   "execution_count": null,
   "id": "8caa2587",
   "metadata": {},
   "outputs": [],
   "source": [
    "A box tuple refers to a tuple that defines a rectangular region or box within an image. This tuple contains four elements, in the following order: (left, upper, right, lower).\n",
    "\n",
    "To use a box tuple with Pillow for operations like cropping, we can use it as an argument to methods like crop(), paste(), or region()."
   ]
  },
  {
   "cell_type": "code",
   "execution_count": null,
   "id": "98789aad",
   "metadata": {},
   "outputs": [],
   "source": [
    "4. Use your image and load in notebook then, How can you find out the width and height of an Image object?"
   ]
  },
  {
   "cell_type": "code",
   "execution_count": null,
   "id": "ff259bd2",
   "metadata": {},
   "outputs": [],
   "source": [
    "from PIL import Image\n",
    "from IPython.display import display  # Import for displaying the image in Jupyter Notebook\n",
    "\n",
    "# Open and display the image\n",
    "image = Image.open(\"your_image.png\")\n",
    "display(image)\n",
    "\n",
    "# Get the width and height of the Image object\n",
    "width, height = image.size\n",
    "\n",
    "# Print the width and height\n",
    "print(\"Width:\", width)\n",
    "print(\"Height:\", height)\n"
   ]
  },
  {
   "cell_type": "code",
   "execution_count": null,
   "id": "e6825bd1",
   "metadata": {},
   "outputs": [],
   "source": [
    "5. What method would you call to get Image object for a 100×100 image, excluding the lower-left quarter of it?"
   ]
  },
  {
   "cell_type": "code",
   "execution_count": null,
   "id": "e620324d",
   "metadata": {},
   "outputs": [],
   "source": [
    "from PIL import Image\n",
    "\n",
    "# Open the original image\n",
    "image = Image.open(\"your_image.png\")  # Replace with your image file\n",
    "\n",
    "# Define the coordinates for the upper-right corner of the desired region\n",
    "left = 50\n",
    "upper = 0\n",
    "right = 100\n",
    "lower = 50\n",
    "\n",
    "# Crop the image to exclude the lower-left quarter\n",
    "cropped_image = image.crop((left, upper, right, lower))\n",
    "\n",
    "# Display or save the cropped image\n",
    "cropped_image.show()\n"
   ]
  },
  {
   "cell_type": "code",
   "execution_count": null,
   "id": "33e2b133",
   "metadata": {},
   "outputs": [],
   "source": [
    "6. After making changes to an Image object, how could you save it as an image file?"
   ]
  },
  {
   "cell_type": "code",
   "execution_count": null,
   "id": "ac02636f",
   "metadata": {},
   "outputs": [],
   "source": [
    "from PIL import Image\n",
    "\n",
    "# Open an image\n",
    "image = Image.open(\"your_image.png\")  # Replace with your image file\n",
    "\n",
    "# Make changes to the image (e.g., cropping, resizing, filtering, etc.)\n",
    "\n",
    "# Save the modified image as a new file\n",
    "image.save(\"modified_image.png\")  # Specify the file name and format (e.g., PNG, JPEG, etc.)\n"
   ]
  },
  {
   "cell_type": "code",
   "execution_count": null,
   "id": "86fa570a",
   "metadata": {},
   "outputs": [],
   "source": [
    "7. What module contains Pillow’s shape-drawing code?"
   ]
  },
  {
   "cell_type": "code",
   "execution_count": null,
   "id": "d948bdb2",
   "metadata": {},
   "outputs": [],
   "source": [
    "from PIL import Image, ImageDraw\n",
    "\n",
    "# Create a new image\n",
    "image = Image.new(\"RGB\", (200, 200), \"white\")\n",
    "\n",
    "# Create a drawing object\n",
    "draw = ImageDraw.Draw(image)\n",
    "\n",
    "# Draw shapes on the image\n",
    "draw.rectangle([50, 50, 150, 150], outline=\"blue\", width=2)\n",
    "draw.ellipse([75, 75, 125, 125], outline=\"red\", width=2)\n",
    "\n",
    "# Save or display the image with the drawn shapes\n",
    "image.show()\n"
   ]
  },
  {
   "cell_type": "code",
   "execution_count": null,
   "id": "eab7beae",
   "metadata": {},
   "outputs": [],
   "source": [
    "8. Image objects do not have drawing methods. What kind of object does? How do you get this kind of object?"
   ]
  },
  {
   "cell_type": "code",
   "execution_count": null,
   "id": "b035e432",
   "metadata": {},
   "outputs": [],
   "source": [
    "Drawing methods are available through a separate object called an \"ImageDraw\" object, which is used for drawing shapes, text, and other graphics on an Image object.\n",
    "\n",
    "To get this object we can use below code\n",
    "from PIL import Image, ImageDraw\n",
    "\n",
    "# Open an image\n",
    "image = Image.open(\"your_image.png\")  # Replace with your image file\n",
    "\n",
    "# Create an ImageDraw object\n",
    "draw = ImageDraw.Draw(image)\n",
    "\n",
    "# Use the ImageDraw object to draw shapes, text, etc.\n",
    "draw.rectangle([50, 50, 150, 150], outline=\"blue\", width=2)\n",
    "draw.text((100, 10), \"Hello, Pillow\", fill=\"red\")\n",
    "\n",
    "# Save or display the modified image\n",
    "image.show()\n"
   ]
  }
 ],
 "metadata": {
  "kernelspec": {
   "display_name": "Python 3 (ipykernel)",
   "language": "python",
   "name": "python3"
  },
  "language_info": {
   "codemirror_mode": {
    "name": "ipython",
    "version": 3
   },
   "file_extension": ".py",
   "mimetype": "text/x-python",
   "name": "python",
   "nbconvert_exporter": "python",
   "pygments_lexer": "ipython3",
   "version": "3.9.13"
  }
 },
 "nbformat": 4,
 "nbformat_minor": 5
}
