{
 "cells": [
  {
   "cell_type": "code",
   "execution_count": null,
   "id": "dbb91eab",
   "metadata": {},
   "outputs": [],
   "source": [
    "1) . What is the difference between enclosing a list comprehension in square brackets and parentheses?"
   ]
  },
  {
   "cell_type": "code",
   "execution_count": null,
   "id": "d2a8f3f0",
   "metadata": {},
   "outputs": [],
   "source": [
    "List comprehension is enclosed in square bracket to create a new list, whereas list comprehension is enclosed in square bracket."
   ]
  },
  {
   "cell_type": "code",
   "execution_count": null,
   "id": "186a67e9",
   "metadata": {},
   "outputs": [],
   "source": [
    "2) What is the relationship between generators and iterators?"
   ]
  },
  {
   "cell_type": "code",
   "execution_count": null,
   "id": "f8e26108",
   "metadata": {},
   "outputs": [],
   "source": [
    "A generator is a special type of iterable in Python that is defined using a function with the 'yield' keyword. However, an iterator is an object that represents a stream of data that can be iterated (looped) over."
   ]
  },
  {
   "cell_type": "code",
   "execution_count": null,
   "id": "15b3255b",
   "metadata": {},
   "outputs": [],
   "source": [
    "3) What are the signs that a function is a generator function?"
   ]
  },
  {
   "cell_type": "code",
   "execution_count": null,
   "id": "58e0e3fd",
   "metadata": {},
   "outputs": [],
   "source": [
    "Here are the signs that indicate a function is a generator function:\n",
    "a)Use of 'yield' keyword\n",
    "b)When function returns a Generator object\n",
    "c)When execution is suspended and resumed\n",
    "d)When local variable retain state"
   ]
  },
  {
   "cell_type": "code",
   "execution_count": null,
   "id": "461f9bcd",
   "metadata": {},
   "outputs": [],
   "source": [
    "4) What is the purpose of a yield statement?"
   ]
  },
  {
   "cell_type": "code",
   "execution_count": null,
   "id": "dcf84b3b",
   "metadata": {},
   "outputs": [],
   "source": [
    "Main purpose of yield statement is as follows\n",
    "a)Producing values lazily\n",
    "b)Memory efficiency\n",
    "c)Iteration support"
   ]
  },
  {
   "cell_type": "code",
   "execution_count": null,
   "id": "4f3539f9",
   "metadata": {},
   "outputs": [],
   "source": [
    "5) What is the relationship between map calls and list comprehensions? Make a comparison and contrast between the two."
   ]
  },
  {
   "cell_type": "code",
   "execution_count": null,
   "id": "0e452e63",
   "metadata": {},
   "outputs": [],
   "source": [
    "map() calls and list comprehensions are both used in Python for performing operations on elements of iterable data.\n",
    "\n",
    "Relationship:Both map() and list comprehensions are used for transforming data by applying a function to each element of an iterable.\n",
    "    \n",
    "Contrast:\n",
    "a)Map requires a function to be passed explicitly while list comprhension requires an expression\n",
    "b)List comprehension directly creates a new list but map indirectly produces a map object"
   ]
  }
 ],
 "metadata": {
  "kernelspec": {
   "display_name": "Python 3 (ipykernel)",
   "language": "python",
   "name": "python3"
  },
  "language_info": {
   "codemirror_mode": {
    "name": "ipython",
    "version": 3
   },
   "file_extension": ".py",
   "mimetype": "text/x-python",
   "name": "python",
   "nbconvert_exporter": "python",
   "pygments_lexer": "ipython3",
   "version": "3.9.13"
  }
 },
 "nbformat": 4,
 "nbformat_minor": 5
}
