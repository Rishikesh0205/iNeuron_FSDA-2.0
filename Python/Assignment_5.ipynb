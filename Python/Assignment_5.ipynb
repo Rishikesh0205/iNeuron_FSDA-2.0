{
 "cells": [
  {
   "cell_type": "code",
   "execution_count": null,
   "id": "0998f310",
   "metadata": {},
   "outputs": [],
   "source": [
    "1. What does an empty dictionary's code look like?"
   ]
  },
  {
   "cell_type": "code",
   "execution_count": null,
   "id": "7486c93a",
   "metadata": {},
   "outputs": [],
   "source": [
    "empty_dict = {}\n"
   ]
  },
  {
   "cell_type": "code",
   "execution_count": null,
   "id": "bfc7f28e",
   "metadata": {},
   "outputs": [],
   "source": [
    "2. What is the value of a dictionary value with the key 'foo' and the value 42?"
   ]
  },
  {
   "cell_type": "code",
   "execution_count": null,
   "id": "eb8ecd70",
   "metadata": {},
   "outputs": [],
   "source": [
    "my_dict = {'foo': 42}\n"
   ]
  },
  {
   "cell_type": "code",
   "execution_count": null,
   "id": "53739328",
   "metadata": {},
   "outputs": [],
   "source": [
    "3. What is the most significant distinction between a dictionary and a list?"
   ]
  },
  {
   "cell_type": "code",
   "execution_count": null,
   "id": "bf6c93e2",
   "metadata": {},
   "outputs": [],
   "source": [
    "Significant distinction are\n",
    "a)Data Storage: Lists are oredred collection of data while Dictionary is unordered collection of key value pair.\n",
    "b)Data Structure: List used for homogenous items Dictionary holds hetrogenous items"
   ]
  },
  {
   "cell_type": "code",
   "execution_count": null,
   "id": "d0dd2f8e",
   "metadata": {},
   "outputs": [],
   "source": [
    "4. What happens if you try to access spam['foo'] if spam is {'bar': 100}?"
   ]
  },
  {
   "cell_type": "code",
   "execution_count": null,
   "id": "af8f3a92",
   "metadata": {},
   "outputs": [],
   "source": [
    "We will get 'Key Error' since 'foo' is not present inside dictionary."
   ]
  },
  {
   "cell_type": "code",
   "execution_count": null,
   "id": "59e90698",
   "metadata": {},
   "outputs": [],
   "source": [
    "5. If a dictionary is stored in spam, what is the difference between the expressions 'cat' in spam and 'cat' in spam.keys()?"
   ]
  },
  {
   "cell_type": "code",
   "execution_count": null,
   "id": "7601d4ca",
   "metadata": {},
   "outputs": [],
   "source": [
    "'cat' in spam checks if 'cat' is a key in dictionary or  not.\n",
    "'cat' in spam.keys() checks if a 'cat' is present in list of keys or not "
   ]
  },
  {
   "cell_type": "code",
   "execution_count": null,
   "id": "a6231460",
   "metadata": {},
   "outputs": [],
   "source": [
    "6. If a dictionary is stored in spam, what is the difference between the expressions 'cat' in spam and 'cat' in spam.values()?"
   ]
  },
  {
   "cell_type": "code",
   "execution_count": null,
   "id": "0e34b01a",
   "metadata": {},
   "outputs": [],
   "source": [
    "'cat' in spam checks if 'cat' is a key in dictionary or  not.\n",
    "'cat' in spam.values() if 'cat' is present or not  by calling all values"
   ]
  },
  {
   "cell_type": "code",
   "execution_count": null,
   "id": "338aa319",
   "metadata": {},
   "outputs": [],
   "source": [
    "7. What is a shortcut for the following code?\n",
    "if 'color' not in spam:\n",
    "spam['color'] = 'black'\n"
   ]
  },
  {
   "cell_type": "code",
   "execution_count": null,
   "id": "730acd8d",
   "metadata": {},
   "outputs": [],
   "source": [
    "spam.setdefault('color', 'black')\n"
   ]
  },
  {
   "cell_type": "code",
   "execution_count": null,
   "id": "a5228860",
   "metadata": {},
   "outputs": [],
   "source": [
    "8. How do you \"pretty print\" dictionary values using which module and function?"
   ]
  },
  {
   "cell_type": "code",
   "execution_count": null,
   "id": "9f37149c",
   "metadata": {},
   "outputs": [],
   "source": [
    "This can be done by importing jason module\n",
    "\n",
    "import json\n",
    "\n",
    "# Your dictionary\n",
    "my_dict = {'name': 'Alice', 'age': 30, 'city': 'New York'}\n",
    "\n",
    "# Pretty print the dictionary with an indentation of 4 spaces\n",
    "pretty_json = json.dumps(my_dict, indent=4)\n",
    "\n",
    "# Print the formatted JSON\n",
    "print(pretty_json)\n"
   ]
  }
 ],
 "metadata": {
  "kernelspec": {
   "display_name": "Python 3 (ipykernel)",
   "language": "python",
   "name": "python3"
  },
  "language_info": {
   "codemirror_mode": {
    "name": "ipython",
    "version": 3
   },
   "file_extension": ".py",
   "mimetype": "text/x-python",
   "name": "python",
   "nbconvert_exporter": "python",
   "pygments_lexer": "ipython3",
   "version": "3.9.13"
  }
 },
 "nbformat": 4,
 "nbformat_minor": 5
}
