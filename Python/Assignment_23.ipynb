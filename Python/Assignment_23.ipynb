{
 "cells": [
  {
   "cell_type": "code",
   "execution_count": null,
   "id": "c9507824",
   "metadata": {},
   "outputs": [],
   "source": [
    "1. What is the result of the code, and why?\n",
    ">>> def func(a, b=6, c=8):\n",
    "print(a, b, c)\n",
    ">>> func(1, 2)\n"
   ]
  },
  {
   "cell_type": "code",
   "execution_count": null,
   "id": "15bb7e46",
   "metadata": {},
   "outputs": [],
   "source": [
    "Result will be 1,2,8\n",
    "a and b are assigned values 1,2 respectively but c holds its default value 8"
   ]
  },
  {
   "cell_type": "code",
   "execution_count": null,
   "id": "53cc1669",
   "metadata": {},
   "outputs": [],
   "source": [
    "2. What is the result of this code, and why?\n",
    ">>> def func(a, b, c=5):8\n",
    "print(a, b, c)\n",
    ">>> func(1, c=3, b=2)\n"
   ]
  },
  {
   "cell_type": "code",
   "execution_count": null,
   "id": "e11db275",
   "metadata": {},
   "outputs": [],
   "source": [
    "Result will be 1,2,3 because all these values are explicitly assigned."
   ]
  },
  {
   "cell_type": "code",
   "execution_count": null,
   "id": "e5c070a1",
   "metadata": {},
   "outputs": [],
   "source": [
    "3. How about this code: what is its result, and why?\n",
    ">>> def func(a, *pargs):\n",
    "print(a, pargs)\n",
    ">>> func(1, 2, 3)\n"
   ]
  },
  {
   "cell_type": "code",
   "execution_count": null,
   "id": "ac20fbdb",
   "metadata": {},
   "outputs": [],
   "source": [
    "Result will be 1,(2,3) because a is assigned 1 but (2,3) is a tuple due to *parags"
   ]
  },
  {
   "cell_type": "code",
   "execution_count": null,
   "id": "5500b5ae",
   "metadata": {},
   "outputs": [],
   "source": [
    "4. What does this code print, and why?\n",
    ">>> def func(a, **kargs):\n",
    "print(a, kargs)\n",
    ">>> func(a=1, c=3, b=2)\n"
   ]
  },
  {
   "cell_type": "code",
   "execution_count": null,
   "id": "eb81bbb7",
   "metadata": {},
   "outputs": [],
   "source": [
    "Result will be 1 {'c': 3, 'b': 2}\n",
    "This is because is assigned value 1 but **kargs collects values into dictionary."
   ]
  },
  {
   "cell_type": "code",
   "execution_count": null,
   "id": "ef29f1d1",
   "metadata": {},
   "outputs": [],
   "source": [
    "5. What gets printed by this, and explain?\n",
    ">>> def func(a, b, c=8, d=5): print(a, b, c, d)\n",
    ">>> func(1, *(5, 6))\n"
   ]
  },
  {
   "cell_type": "code",
   "execution_count": null,
   "id": "e357536e",
   "metadata": {},
   "outputs": [],
   "source": [
    "The result will be 1 5 6 5\n",
    "This is because * operator is used to unpack tuple"
   ]
  },
  {
   "cell_type": "code",
   "execution_count": null,
   "id": "83e24e59",
   "metadata": {},
   "outputs": [],
   "source": [
    "6. what is the result of this, and explain?\n",
    ">>> def func(a, b, c): a = 2; b[0] = 'x'; c['a'] = 'y'\n",
    ">>> l=1; m=[1]; n={'a':0}\n",
    ">>> func(l, m, n)\n"
   ]
  },
  {
   "cell_type": "raw",
   "id": "c096b99c",
   "metadata": {},
   "source": [
    "The function doesn't return any values; it only modifies its parameters"
   ]
  }
 ],
 "metadata": {
  "kernelspec": {
   "display_name": "Python 3 (ipykernel)",
   "language": "python",
   "name": "python3"
  },
  "language_info": {
   "codemirror_mode": {
    "name": "ipython",
    "version": 3
   },
   "file_extension": ".py",
   "mimetype": "text/x-python",
   "name": "python",
   "nbconvert_exporter": "python",
   "pygments_lexer": "ipython3",
   "version": "3.9.13"
  }
 },
 "nbformat": 4,
 "nbformat_minor": 5
}
