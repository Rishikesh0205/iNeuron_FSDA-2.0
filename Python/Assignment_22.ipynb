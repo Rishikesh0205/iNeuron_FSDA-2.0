{
 "cells": [
  {
   "cell_type": "code",
   "execution_count": null,
   "id": "45f9e59e",
   "metadata": {},
   "outputs": [],
   "source": [
    "1. What is the result of the code, and explain?\n",
    "\n",
    "\n",
    ">>> X = 'iNeuron'\n",
    ">>> def func():\n",
    "print(X)\n",
    "\n",
    "\n",
    ">>> func()\n"
   ]
  },
  {
   "cell_type": "code",
   "execution_count": null,
   "id": "8ff1f13c",
   "metadata": {},
   "outputs": [],
   "source": [
    "Result of code is iNeuron\n",
    "This is becqause X is assigned result of global variable"
   ]
  },
  {
   "cell_type": "code",
   "execution_count": null,
   "id": "e9e3e74b",
   "metadata": {},
   "outputs": [],
   "source": [
    "2. What is the result of the code, and explain?\n",
    "\n",
    "\n",
    ">>> X = 'iNeuron'\n",
    ">>> def func():\n",
    "X = 'NI!'\n",
    "\n",
    "\n",
    ">>> func()\n"
   ]
  },
  {
   "cell_type": "raw",
   "id": "4afeae46",
   "metadata": {},
   "source": [
    " The code doesn't produce any output, and the global variable X is not modified by the function."
   ]
  },
  {
   "cell_type": "code",
   "execution_count": null,
   "id": "e4bc666b",
   "metadata": {},
   "outputs": [],
   "source": [
    "3. What does this code print, and why?\n",
    "\n",
    "\n",
    ">>> X = 'iNeuron'\n",
    ">>> def func():\n",
    "X = 'NI'\n",
    "print(X)\n",
    "\n",
    "\n",
    ">>> func()\n",
    ">>> print(X)\n"
   ]
  },
  {
   "cell_type": "code",
   "execution_count": null,
   "id": "66b5ec16",
   "metadata": {},
   "outputs": [],
   "source": [
    "Code will give output as\n",
    "NI\n",
    "iNeuron\n",
    "\n",
    "The print(X) statement inside the function prints the local variable X ('NI') defined within the function's scope, while the print(X) statement outside the function prints the global variable X ('iNeuron')."
   ]
  },
  {
   "cell_type": "code",
   "execution_count": null,
   "id": "f9efb292",
   "metadata": {},
   "outputs": [],
   "source": [
    "4. What output does this code produce? Why?\n",
    "\n",
    "\n",
    ">>> X = 'iNeuron'\n",
    ">>> def func():\n",
    "global X\n",
    "X = 'NI'\n",
    "\n",
    "\n",
    ">>> func()\n",
    ">>> print(X)\n"
   ]
  },
  {
   "cell_type": "code",
   "execution_count": null,
   "id": "4c5aec19",
   "metadata": {},
   "outputs": [],
   "source": [
    "Output will be NI\n",
    "The function func() modifies the global variable X to 'NI', and when you print it after the function call, it reflects the updated value."
   ]
  },
  {
   "cell_type": "code",
   "execution_count": null,
   "id": "3d9b1217",
   "metadata": {},
   "outputs": [],
   "source": [
    "5. What about this code—what’s the output, and why?\n",
    "\n",
    "\n",
    ">>> X = 'iNeuron'\n",
    ">>> def func():\n",
    "X = 'NI'\n",
    "def nested():\n",
    "print(X)\n",
    "nested()\n",
    "\n",
    "\n",
    ">>> func()\n",
    ">>> X\n"
   ]
  },
  {
   "cell_type": "code",
   "execution_count": null,
   "id": "2a1698fe",
   "metadata": {},
   "outputs": [],
   "source": [
    "Output will be\n",
    "NI\n",
    "'iNeuron'\n",
    "The nested function prints the value of the local variable X in the func function, and the final expression X outside the functions refers to the global variable X, which is 'iNeuron'."
   ]
  },
  {
   "cell_type": "code",
   "execution_count": null,
   "id": "76a933d6",
   "metadata": {},
   "outputs": [],
   "source": [
    "6. How about this code: what is its output in Python 3, and explain?\n",
    "\n",
    "\n",
    ">>> def func():\n",
    "X = 'NI'\n",
    "def nested():\n",
    "nonlocal X\n",
    "X = 'Spam'\n",
    "nested()\n",
    "print(X)\n",
    "\n",
    "\n",
    ">>> func()\n"
   ]
  },
  {
   "cell_type": "code",
   "execution_count": null,
   "id": "9a619ab5",
   "metadata": {},
   "outputs": [],
   "source": [
    "Output will be Spam\n",
    "The nonlocal keyword allows you to modify a variable in an enclosing scope, in this case, the X variable in the func function, from within the nested function."
   ]
  }
 ],
 "metadata": {
  "kernelspec": {
   "display_name": "Python 3 (ipykernel)",
   "language": "python",
   "name": "python3"
  },
  "language_info": {
   "codemirror_mode": {
    "name": "ipython",
    "version": 3
   },
   "file_extension": ".py",
   "mimetype": "text/x-python",
   "name": "python",
   "nbconvert_exporter": "python",
   "pygments_lexer": "ipython3",
   "version": "3.9.13"
  }
 },
 "nbformat": 4,
 "nbformat_minor": 5
}
