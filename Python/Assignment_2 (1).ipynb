{
 "cells": [
  {
   "cell_type": "code",
   "execution_count": null,
   "id": "1907344e",
   "metadata": {},
   "outputs": [],
   "source": [
    "1.What are the two values of the Boolean data type? How do you write them?"
   ]
  },
  {
   "cell_type": "code",
   "execution_count": null,
   "id": "334a3ad7",
   "metadata": {},
   "outputs": [],
   "source": [
    "True and False are the two values in Boolean data type."
   ]
  },
  {
   "cell_type": "code",
   "execution_count": null,
   "id": "2e54c225",
   "metadata": {},
   "outputs": [],
   "source": [
    "2. What are the three different types of Boolean operators?"
   ]
  },
  {
   "cell_type": "code",
   "execution_count": null,
   "id": "d0fd9621",
   "metadata": {},
   "outputs": [],
   "source": [
    "Three different types of Boolean operator are\n",
    "\n",
    "1)Logical AND: both operands must satify the condition\n",
    "2)Logical OR: at least one of operands must satisfy the condition\n",
    "3)Logical NOT: negaties the value of operand"
   ]
  },
  {
   "cell_type": "markdown",
   "id": "0904a108",
   "metadata": {},
   "source": [
    "3. Make a list of each Boolean operator's truth tables (i.e. every possible combination of Boolean values for the operator and what it evaluate )."
   ]
  },
  {
   "cell_type": "code",
   "execution_count": null,
   "id": "9f1834cb",
   "metadata": {},
   "outputs": [],
   "source": [
    "Truth table shows all possible combination of boolean values.\n",
    "\n",
    "Logical AND (and):\n",
    "\n",
    "True\tTrue\tTrue\n",
    "True\tFalse\tFalse\n",
    "False\tTrue\tFalse\n",
    "False\tFalse\tFalse\n",
    "\n",
    "Logical OR (or):\n",
    "\n",
    "True\tTrue\tTrue\n",
    "True\tFalse\tTrue\n",
    "False\tTrue\tTrue\n",
    "False\tFalse\tFalse\n",
    "\n",
    "Logical NOT (not):\n",
    "\n",
    "True\tFalse\n",
    "False\tTrue\n"
   ]
  },
  {
   "cell_type": "code",
   "execution_count": null,
   "id": "2b39297a",
   "metadata": {},
   "outputs": [],
   "source": [
    "4. What are the values of the following expressions?\n",
    "(5 > 4) and (3 == 5)\n",
    "not (5 > 4)\n",
    "(5 > 4) or (3 == 5)\n",
    "not ((5 > 4) or (3 == 5))\n",
    "(True and True) and (True == False)\n",
    "(not False) or (not True)"
   ]
  },
  {
   "cell_type": "code",
   "execution_count": null,
   "id": "0e7ea948",
   "metadata": {},
   "outputs": [],
   "source": [
    "(5 > 4) and (3 == 5) output is : False\n",
    "not (5 > 4) output is : False\n",
    "(5 > 4) or (3 == 5) outpuut is:True\n",
    "not ((5 > 4) or (3 == 5)) output is :False\n",
    "(True and True) and (True == False) output is:False\n",
    "(not False) or (not True) output is:True"
   ]
  },
  {
   "cell_type": "code",
   "execution_count": null,
   "id": "43ae8830",
   "metadata": {},
   "outputs": [],
   "source": [
    "Six comparison operators in Python are\n",
    "\n",
    "1)Equal to(==)\n",
    "2)Not Equal(!=)\n",
    "3)Greater than(>)\n",
    "4)Less than(<)\n",
    "5)Greater than or equal to(>=)\n",
    "6)Less than or equal to(<=)"
   ]
  },
  {
   "cell_type": "code",
   "execution_count": null,
   "id": "b98bb0c1",
   "metadata": {},
   "outputs": [],
   "source": [
    "6. How do you tell the difference between the equal to and assignment operators?Describe a condition and when you would use one."
   ]
  },
  {
   "cell_type": "code",
   "execution_count": null,
   "id": "49b79e79",
   "metadata": {},
   "outputs": [],
   "source": [
    "Equal to uses'==' operator and assignmnet operator uses '='\n",
    "\n",
    "Condition when we should use them\n",
    "Equal to operator(==): to compare if 2 values or equal or not. It returs a Boolean value(true or False)\n",
    "    Assignment operator(=); to assign values to a variable."
   ]
  },
  {
   "cell_type": "code",
   "execution_count": null,
   "id": "3541f8fb",
   "metadata": {},
   "outputs": [],
   "source": [
    "7. Identify the three blocks in this code:\n",
    "spam = 0\n",
    "if spam == 10:\n",
    "print('eggs')\n",
    "if spam > 5:\n",
    "print('bacon')\n",
    "else:\n",
    "print('ham')\n",
    "print('spam')\n",
    "print('spam')\n"
   ]
  },
  {
   "cell_type": "code",
   "execution_count": null,
   "id": "731a5290",
   "metadata": {},
   "outputs": [],
   "source": [
    "1st block\n",
    "    if spam == 10:\n",
    "    print('eggs')\n",
    "\n",
    "2nd Block\n",
    "if spam > 5:\n",
    "    print('bacon')\n",
    "else:\n",
    "    print('ham')\n",
    "\n",
    "    \n",
    "3rd block\n",
    "print('spam')\n",
    "print('spam')\n"
   ]
  },
  {
   "cell_type": "code",
   "execution_count": null,
   "id": "acae1396",
   "metadata": {},
   "outputs": [],
   "source": [
    "8. Write code that prints Hello if 1 is stored in spam, prints Howdy if 2 is stored in spam, and prints Greetings! if anything else is stored in spam."
   ]
  },
  {
   "cell_type": "code",
   "execution_count": null,
   "id": "98274d76",
   "metadata": {},
   "outputs": [],
   "source": [
    "spam= eval(input(\"Enter a value for spam: \"))\n",
    "\n",
    "if spam==1:\n",
    "    print(\"Hello\")\n",
    "elif spam==2:\n",
    "    print(\"Howdy\")\n",
    "else:\n",
    "    print(\"Greeting!\")"
   ]
  },
  {
   "cell_type": "code",
   "execution_count": null,
   "id": "661c9260",
   "metadata": {},
   "outputs": [],
   "source": [
    "9.If your programme is stuck in an endless loop, what keys you’ll press?"
   ]
  },
  {
   "cell_type": "code",
   "execution_count": null,
   "id": "7b6ae96a",
   "metadata": {},
   "outputs": [],
   "source": [
    "Keys which can be pressed are\n",
    "1)Ctrl+C\n",
    "2)Ctrl+Break\n",
    "3)**Ctrl + **"
   ]
  },
  {
   "cell_type": "code",
   "execution_count": null,
   "id": "1f9e622d",
   "metadata": {},
   "outputs": [],
   "source": [
    "10. How can you tell the difference between break and continue?"
   ]
  },
  {
   "cell_type": "code",
   "execution_count": null,
   "id": "7782a961",
   "metadata": {},
   "outputs": [],
   "source": [
    "Break and continue statements control the behaviour of loops\n",
    "\n",
    "Break statement: immediately terminates the loop\n",
    "Continue statement: Skips the remaining code and moves to next iteration"
   ]
  },
  {
   "cell_type": "code",
   "execution_count": null,
   "id": "dd065e62",
   "metadata": {},
   "outputs": [],
   "source": [
    "11. In a for loop, what is the difference between range(10), range(0, 10), and range(0, 10, 1)?"
   ]
  },
  {
   "cell_type": "code",
   "execution_count": null,
   "id": "cfd5b737",
   "metadata": {},
   "outputs": [],
   "source": [
    "Range 10 generates a sequence of numbers from 0 to 9, with an implicit step size of 1\n",
    "Range(0,10) generates a sequence of numbers from 0 to 9, with an implicit step size of 1\n",
    "Range(0,10,1) generates a sequence of numbers from 0 to 9, with an explicit step size of 1"
   ]
  },
  {
   "cell_type": "code",
   "execution_count": null,
   "id": "98083fff",
   "metadata": {},
   "outputs": [],
   "source": [
    "12. Write a short program that prints the numbers 1 to 10 using a for loop. Then write an equivalent program that prints the numbers 1 to 10 using a while loop."
   ]
  },
  {
   "cell_type": "code",
   "execution_count": null,
   "id": "83eec129",
   "metadata": {},
   "outputs": [],
   "source": [
    "Using For loop\n",
    "\n",
    "for i in range(0,11):\n",
    "    print(i)\n",
    "    \n",
    "Using While loop\n",
    "\n",
    "i=1\n",
    "while i<=10:\n",
    "    print(i)\n",
    "    i=i+1"
   ]
  },
  {
   "cell_type": "code",
   "execution_count": null,
   "id": "379adfe9",
   "metadata": {},
   "outputs": [],
   "source": [
    "import spam\n",
    "\n",
    "spam.bacon()\n"
   ]
  }
 ],
 "metadata": {
  "kernelspec": {
   "display_name": "Python 3 (ipykernel)",
   "language": "python",
   "name": "python3"
  },
  "language_info": {
   "codemirror_mode": {
    "name": "ipython",
    "version": 3
   },
   "file_extension": ".py",
   "mimetype": "text/x-python",
   "name": "python",
   "nbconvert_exporter": "python",
   "pygments_lexer": "ipython3",
   "version": "3.9.13"
  }
 },
 "nbformat": 4,
 "nbformat_minor": 5
}
