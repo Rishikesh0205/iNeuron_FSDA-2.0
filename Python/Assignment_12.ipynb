{
 "cells": [
  {
   "cell_type": "code",
   "execution_count": null,
   "id": "63b554e1",
   "metadata": {},
   "outputs": [],
   "source": [
    "1. In what modes should the PdfFileReader() and PdfFileWriter() File objects will be opened?"
   ]
  },
  {
   "cell_type": "code",
   "execution_count": null,
   "id": "9859c9b6",
   "metadata": {},
   "outputs": [],
   "source": [
    "PdfFileReader() and PdfFileWriter() objects need to be created by opening the PDF files in the following modes:\n",
    "a)PdfFileReader() - Reader Object\n",
    "b)PdfFileWriter() - Writer Object"
   ]
  },
  {
   "cell_type": "code",
   "execution_count": null,
   "id": "07d7c7aa",
   "metadata": {},
   "outputs": [],
   "source": [
    "2. From a PdfFileReader object, how do you get a Page object for page 5?"
   ]
  },
  {
   "cell_type": "code",
   "execution_count": null,
   "id": "7c83758a",
   "metadata": {},
   "outputs": [],
   "source": [
    "By using getPage() method as follows:\n",
    " \n",
    "from PyPDF2 import PdfFileReader\n",
    "\n",
    "# Open the PDF file in binary read mode\n",
    "with open('your_pdf_file.pdf', 'rb') as pdf_file:\n",
    "    pdf_reader = PdfFileReader(pdf_file)\n",
    "\n",
    "    # Get the Page object for page 5 (index 4)\n",
    "    page5 = pdf_reader.getPage(4)\n"
   ]
  },
  {
   "cell_type": "code",
   "execution_count": null,
   "id": "cce20a9d",
   "metadata": {},
   "outputs": [],
   "source": [
    "3. What PdfFileReader variable stores the number of pages in the PDF document?"
   ]
  },
  {
   "cell_type": "code",
   "execution_count": null,
   "id": "0c73d67f",
   "metadata": {},
   "outputs": [],
   "source": [
    "The number of pages in a PDF document is stored in the numPages variable of a PdfFileReader object in the PyPDF2 library"
   ]
  },
  {
   "cell_type": "code",
   "execution_count": null,
   "id": "a3f08c6a",
   "metadata": {},
   "outputs": [],
   "source": [
    "4. If a PdfFileReader object’s PDF is encrypted with the password swordfish, what must you do before you can obtain Page objects from it?"
   ]
  },
  {
   "cell_type": "code",
   "execution_count": null,
   "id": "71053f81",
   "metadata": {},
   "outputs": [],
   "source": [
    "We must use decrypt() method as written below\n",
    "\n",
    "from PyPDF2 import PdfFileReader\n",
    "\n",
    "# Open the encrypted PDF file in binary read mode\n",
    "with open('encrypted_pdf_file.pdf', 'rb') as pdf_file:\n",
    "    pdf_reader = PdfFileReader(pdf_file)\n",
    "\n",
    "    # Provide the password to decrypt the PDF\n",
    "    pdf_reader.decrypt('swordfish')\n",
    "\n",
    "    # Now you can obtain Page objects and work with the PDF\n",
    "    page1 = pdf_reader.getPage(0)\n",
    "    # ... perform other operations with Page objects\n"
   ]
  },
  {
   "cell_type": "code",
   "execution_count": null,
   "id": "aea5c668",
   "metadata": {},
   "outputs": [],
   "source": [
    "5. What methods do you use to rotate a page?"
   ]
  },
  {
   "cell_type": "code",
   "execution_count": null,
   "id": "1826bc9f",
   "metadata": {},
   "outputs": [],
   "source": [
    "rotateClockwise() and rotateCounterClockwise() methods are used to rotate a page."
   ]
  },
  {
   "cell_type": "code",
   "execution_count": null,
   "id": "bd9f4b71",
   "metadata": {},
   "outputs": [],
   "source": [
    "6. What is the difference between a Run object and a Paragraph object?"
   ]
  },
  {
   "cell_type": "code",
   "execution_count": null,
   "id": "5527e250",
   "metadata": {},
   "outputs": [],
   "source": [
    "A Paragraph object represents a paragraph of text within a document whereas a Run object represents a contiguous run of text within a paragraph."
   ]
  },
  {
   "cell_type": "code",
   "execution_count": null,
   "id": "23f36331",
   "metadata": {},
   "outputs": [],
   "source": [
    "7. How do you obtain a list of Paragraph objects for a Document object that’s stored in a variable named doc?"
   ]
  },
  {
   "cell_type": "code",
   "execution_count": null,
   "id": "4306d605",
   "metadata": {},
   "outputs": [],
   "source": [
    "doc.paragraphs attribute can be used to obtain a list of Paragraph objects for a Document object that’s stored in a variable named doc"
   ]
  },
  {
   "cell_type": "code",
   "execution_count": null,
   "id": "45ee5f93",
   "metadata": {},
   "outputs": [],
   "source": [
    "8. What type of object has bold, underline, italic, strike, and outline variables?"
   ]
  },
  {
   "cell_type": "code",
   "execution_count": null,
   "id": "2367dfaa",
   "metadata": {},
   "outputs": [],
   "source": [
    "Run object in the python-docx library has bold, underline, italic, strike, and outline variables."
   ]
  },
  {
   "cell_type": "code",
   "execution_count": null,
   "id": "0a14c31e",
   "metadata": {},
   "outputs": [],
   "source": [
    "9. What is the difference between False, True, and None for the bold variable?"
   ]
  },
  {
   "cell_type": "code",
   "execution_count": null,
   "id": "1ac49cc2",
   "metadata": {},
   "outputs": [],
   "source": [
    "When the bold attribute is set to False, it means that the text is not formatted as bold. The text appears with regular (non-bold) formatting.\n",
    "\n",
    "When the bold attribute is set to True, it means that the text is formatted as bold. The text appears in a bold typeface.\n",
    "\n",
    "When the bold attribute is set to None, it means that the attribute is unspecified or takes its formatting from the surrounding context. "
   ]
  },
  {
   "cell_type": "code",
   "execution_count": null,
   "id": "17243004",
   "metadata": {},
   "outputs": [],
   "source": [
    "10. How do you create a Document object for a new Word document?"
   ]
  },
  {
   "cell_type": "code",
   "execution_count": null,
   "id": "b7a3aa75",
   "metadata": {},
   "outputs": [],
   "source": [
    "We can create an instance of the Document class to create a Document object for a new Word document."
   ]
  },
  {
   "cell_type": "code",
   "execution_count": null,
   "id": "f258483d",
   "metadata": {},
   "outputs": [],
   "source": [
    "11. How do you add a paragraph with the text 'Hello, there!' to a Document object stored in a variable named doc?"
   ]
  },
  {
   "cell_type": "code",
   "execution_count": null,
   "id": "6050f7e9",
   "metadata": {},
   "outputs": [],
   "source": [
    "We can use add_paragraph() method of the Document object to add a paragraph with the text 'Hello, there!' to a Document object stored in a variable named doc."
   ]
  },
  {
   "cell_type": "code",
   "execution_count": null,
   "id": "dc35bace",
   "metadata": {},
   "outputs": [],
   "source": [
    "12. What integers represent the levels of headings available in Word documents?"
   ]
  },
  {
   "cell_type": "code",
   "execution_count": null,
   "id": "aa89019c",
   "metadata": {},
   "outputs": [],
   "source": [
    "Heading Level 1: Represents the main title or heading.\n",
    "\n",
    "Integer: 0\n",
    "Heading Level 2: Represents a subheading under the main title.\n",
    "\n",
    "Integer: 1\n",
    "Heading Level 3: Represents a subheading under the Heading Level 2.\n",
    "\n",
    "Integer: 2\n",
    "Heading Level 4: Represents a subheading under the Heading Level 3.\n",
    "\n",
    "Integer: 3\n",
    "Heading Level 5: Represents a subheading under the Heading Level 4.\n",
    "\n",
    "Integer: 4\n",
    "Heading Level 6: Represents a subheading under the Heading Level 5.\n",
    "\n",
    "Integer: 5"
   ]
  }
 ],
 "metadata": {
  "kernelspec": {
   "display_name": "Python 3 (ipykernel)",
   "language": "python",
   "name": "python3"
  },
  "language_info": {
   "codemirror_mode": {
    "name": "ipython",
    "version": 3
   },
   "file_extension": ".py",
   "mimetype": "text/x-python",
   "name": "python",
   "nbconvert_exporter": "python",
   "pygments_lexer": "ipython3",
   "version": "3.9.13"
  }
 },
 "nbformat": 4,
 "nbformat_minor": 5
}
