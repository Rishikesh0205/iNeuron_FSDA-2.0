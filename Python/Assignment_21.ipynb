{
 "cells": [
  {
   "cell_type": "code",
   "execution_count": null,
   "id": "9723c6d4",
   "metadata": {},
   "outputs": [],
   "source": [
    "1. Add the current date to the text file today.txt as a string."
   ]
  },
  {
   "cell_type": "code",
   "execution_count": null,
   "id": "8ec46212",
   "metadata": {},
   "outputs": [],
   "source": [
    "from datetime import date\n",
    "\n",
    "# Get the current date as a string\n",
    "current_date = date.today().strftime('%Y-%m-%d')\n",
    "\n",
    "# Open the file in append mode and write the current date\n",
    "with open('today.txt', 'a') as file:\n",
    "    file.write(current_date + '\\n')\n"
   ]
  },
  {
   "cell_type": "code",
   "execution_count": null,
   "id": "cb7b00b7",
   "metadata": {},
   "outputs": [],
   "source": [
    "2. Read the text file today.txt into the string today_string"
   ]
  },
  {
   "cell_type": "code",
   "execution_count": null,
   "id": "e19ebf00",
   "metadata": {},
   "outputs": [],
   "source": [
    "# Open the file in read mode and read its content into a string\n",
    "with open('today.txt', 'r') as file:\n",
    "    today_string = file.read()\n",
    "\n",
    "# Print or use the content as needed\n",
    "print(today_string)\n"
   ]
  },
  {
   "cell_type": "code",
   "execution_count": null,
   "id": "c5df6678",
   "metadata": {},
   "outputs": [],
   "source": [
    "3. Parse the date from today_string."
   ]
  },
  {
   "cell_type": "code",
   "execution_count": null,
   "id": "ebffc17c",
   "metadata": {},
   "outputs": [],
   "source": [
    "# Open the file in read mode and read its content into a string\n",
    "with open('today.txt', 'r') as file:\n",
    "    today_string = file.read()\n",
    "\n",
    "# Print or use the content as needed\n",
    "print(today_string)\n"
   ]
  },
  {
   "cell_type": "code",
   "execution_count": null,
   "id": "7037b58c",
   "metadata": {},
   "outputs": [],
   "source": [
    "4. List the files in your current directory"
   ]
  },
  {
   "cell_type": "code",
   "execution_count": null,
   "id": "119feb96",
   "metadata": {},
   "outputs": [],
   "source": [
    "import os\n",
    "\n",
    "# Get the current directory\n",
    "current_directory = os.getcwd()\n",
    "\n",
    "# List the files in the current directory\n",
    "file_list = os.listdir(current_directory)\n",
    "\n",
    "# Filter out directories and list only files\n",
    "file_list = [f for f in file_list if os.path.isfile(os.path.join(current_directory, f)]\n",
    "\n",
    "# Print the list of files\n",
    "for file in file_list:\n",
    "    print(file)\n"
   ]
  },
  {
   "cell_type": "code",
   "execution_count": null,
   "id": "c966625b",
   "metadata": {},
   "outputs": [],
   "source": [
    "5. Create a list of all of the files in your parent directory (minimum five files should be available)."
   ]
  },
  {
   "cell_type": "code",
   "execution_count": null,
   "id": "bed88167",
   "metadata": {},
   "outputs": [],
   "source": [
    "import os\n",
    "\n",
    "# Get the current directory\n",
    "current_directory = os.getcwd()\n",
    "\n",
    "# Get the parent directory\n",
    "parent_directory = os.path.dirname(current_directory)\n",
    "\n",
    "# List the files in the parent directory\n",
    "file_list = [f for f in os.listdir(parent_directory) if os.path.isfile(os.path.join(parent_directory, f)]\n",
    "\n",
    "# Print the list of files in the parent directory\n",
    "for file in file_list:\n",
    "    print(file)\n"
   ]
  },
  {
   "cell_type": "code",
   "execution_count": null,
   "id": "b970ce29",
   "metadata": {},
   "outputs": [],
   "source": [
    "6. Use multiprocessing to create three separate processes. Make each one wait a random number of seconds between one and five, print the current time, and then exit."
   ]
  },
  {
   "cell_type": "code",
   "execution_count": null,
   "id": "e976177a",
   "metadata": {},
   "outputs": [],
   "source": [
    "import multiprocessing\n",
    "import time\n",
    "import random\n",
    "from datetime import datetime\n",
    "\n",
    "# Function to print current time and exit\n",
    "def print_time_and_exit():\n",
    "    sleep_time = random.randint(1, 5)\n",
    "    time.sleep(sleep_time)\n",
    "    current_time = datetime.now().strftime(\"%Y-%m-%d %H:%M:%S\")\n",
    "    print(f\"Process ID: {multiprocessing.current_process().name}, Current Time: {current_time}\")\n",
    "    \n",
    "if __name__ == \"__main__\":\n",
    "    # Create three separate processes\n",
    "    processes = []\n",
    "\n",
    "    for i in range(3):\n",
    "        process = multiprocessing.Process(target=print_time_and_exit)\n",
    "        process.start()\n",
    "        processes.append(process)\n",
    "\n",
    "    # Wait for all processes to finish\n",
    "    for process in processes:\n",
    "        process.join()\n",
    "\n",
    "    print(\"All processes have completed.\")\n"
   ]
  },
  {
   "cell_type": "code",
   "execution_count": null,
   "id": "0d4485e4",
   "metadata": {},
   "outputs": [],
   "source": [
    "7. Create a date object of your day of birth."
   ]
  },
  {
   "cell_type": "code",
   "execution_count": null,
   "id": "c7101783",
   "metadata": {},
   "outputs": [],
   "source": [
    "from datetime import date\n",
    "\n",
    "# Replace these values with your own birthdate\n",
    "year = 1990  # Your birth year\n",
    "month = 5    # Your birth month\n",
    "day = 15     # Your birth day\n",
    "\n",
    "# Create a date object for your birthdate\n",
    "birth_date = date(year, month, day)\n",
    "\n",
    "# Print the birthdate\n",
    "print(\"My birthdate:\", birth_date)\n"
   ]
  },
  {
   "cell_type": "code",
   "execution_count": null,
   "id": "9d9cff04",
   "metadata": {},
   "outputs": [],
   "source": [
    "8. What day of the week was your day of birth?"
   ]
  },
  {
   "cell_type": "code",
   "execution_count": null,
   "id": "279b79f0",
   "metadata": {},
   "outputs": [],
   "source": [
    "from datetime import date\n",
    "\n",
    "# Replace these values with your own birthdate\n",
    "year = 1990  # Your birth year\n",
    "month = 5    # Your birth month\n",
    "day = 15     # Your birth day\n",
    "\n",
    "# Create a date object for your birthdate\n",
    "birth_date = date(year, month, day)\n",
    "\n",
    "# Get the day of the week (0 = Monday, 6 = Sunday)\n",
    "day_of_week = birth_date.weekday()\n",
    "\n",
    "# Define a list of day names\n",
    "days = [\"Monday\", \"Tuesday\", \"Wednesday\", \"Thursday\", \"Friday\", \"Saturday\", \"Sunday\"]\n",
    "\n",
    "# Print the day of the week for your birthdate\n",
    "print(\"My birthdate falls on a\", days[day_of_week])\n"
   ]
  },
  {
   "cell_type": "code",
   "execution_count": null,
   "id": "0173b920",
   "metadata": {},
   "outputs": [],
   "source": [
    "9. When will you be (or when were you) 10,000 days old?"
   ]
  },
  {
   "cell_type": "code",
   "execution_count": null,
   "id": "2b4d15e2",
   "metadata": {},
   "outputs": [],
   "source": [
    "from datetime import date, timedelta\n",
    "\n",
    "# Replace these values with your own birthdate\n",
    "year = 1990  # Your birth year\n",
    "month = 5    # Your birth month\n",
    "day = 15     # Your birth day\n",
    "\n",
    "# Create a date object for your birthdate\n",
    "birth_date = date(year, month, day)\n",
    "\n",
    "# Calculate the date when you will be (or were) 10,000 days old\n",
    "ten_thousand_days = timedelta(days=10000)\n",
    "target_date = birth_date + ten_thousand_days\n",
    "\n",
    "# Print the target date\n",
    "print(\"You will be (or were) 10,000 days old on:\", target_date)\n"
   ]
  }
 ],
 "metadata": {
  "kernelspec": {
   "display_name": "Python 3 (ipykernel)",
   "language": "python",
   "name": "python3"
  },
  "language_info": {
   "codemirror_mode": {
    "name": "ipython",
    "version": 3
   },
   "file_extension": ".py",
   "mimetype": "text/x-python",
   "name": "python",
   "nbconvert_exporter": "python",
   "pygments_lexer": "ipython3",
   "version": "3.9.13"
  }
 },
 "nbformat": 4,
 "nbformat_minor": 5
}
