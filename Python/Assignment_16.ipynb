{
 "cells": [
  {
   "cell_type": "code",
   "execution_count": null,
   "id": "35d76581",
   "metadata": {},
   "outputs": [],
   "source": [
    "1. Create a list called years_list, starting with the year of your birth, and each year thereafter until the year of your fifth birthday. For example, if you were born in 1980. the list would be years_list = [1980, 1981, 1982, 1983, 1984, 1985]."
   ]
  },
  {
   "cell_type": "code",
   "execution_count": null,
   "id": "a03e9376",
   "metadata": {},
   "outputs": [],
   "source": [
    "# Replace the values with your actual birth year and age\n",
    "birth_year = 2000\n",
    "age_at_fifth_birthday = 5\n",
    "\n",
    "# Create the years_list\n",
    "years_list = [birth_year + i for i in range(age_at_fifth_birthday + 1)]\n",
    "\n",
    "# Print the years_list\n",
    "print(years_list)\n"
   ]
  },
  {
   "cell_type": "code",
   "execution_count": null,
   "id": "be98d7dd",
   "metadata": {},
   "outputs": [],
   "source": [
    "2. In which year in years_list was your third birthday? Remember, you were 0 years of age for your first year."
   ]
  },
  {
   "cell_type": "code",
   "execution_count": null,
   "id": "71668bf8",
   "metadata": {},
   "outputs": [],
   "source": [
    "# Replace the values with your actual birth year and age at your third birthday\n",
    "birth_year = 2000\n",
    "age_at_third_birthday = 3\n",
    "\n",
    "# Create the years_list\n",
    "years_list = [birth_year + i for i in range(age_at_third_birthday + 1)]\n",
    "\n",
    "# Find the year of your third birthday\n",
    "year_of_third_birthday = years_list[3]\n",
    "\n",
    "# Print the year of your third birthday\n",
    "print(\"The year of your third birthday was:\", year_of_third_birthday)\n"
   ]
  },
  {
   "cell_type": "code",
   "execution_count": null,
   "id": "593ccc57",
   "metadata": {},
   "outputs": [],
   "source": [
    "3.In the years list, which year were you the oldest?"
   ]
  },
  {
   "cell_type": "code",
   "execution_count": null,
   "id": "de9f2bb6",
   "metadata": {},
   "outputs": [],
   "source": [
    "# Replace the values with your actual birth year and age at your fifth birthday\n",
    "birth_year = 2000\n",
    "age_at_fifth_birthday = 5\n",
    "\n",
    "# Create the years_list\n",
    "years_list = [birth_year + i for i in range(age_at_fifth_birthday + 1)]\n",
    "\n",
    "# Find the year when you were the oldest\n",
    "year_of_oldest = years_list[-1]\n",
    "\n",
    "# Print the year when you were the oldest\n",
    "print(\"The year when you were the oldest was:\", year_of_oldest)\n"
   ]
  },
  {
   "cell_type": "code",
   "execution_count": null,
   "id": "85747835",
   "metadata": {},
   "outputs": [],
   "source": [
    "4. Make a list called things with these three strings as elements: \"mozzarella\", \"cinderella\", \"salmonella\"."
   ]
  },
  {
   "cell_type": "code",
   "execution_count": null,
   "id": "47222b6f",
   "metadata": {},
   "outputs": [],
   "source": [
    "things = [\"mozzarella\", \"cinderella\", \"salmonella\"]\n"
   ]
  },
  {
   "cell_type": "code",
   "execution_count": null,
   "id": "d1fef522",
   "metadata": {},
   "outputs": [],
   "source": [
    "5. Capitalize the element in things that refers to a person and then print the list. Did it change the element in the list?"
   ]
  },
  {
   "cell_type": "code",
   "execution_count": null,
   "id": "ebe9b65b",
   "metadata": {},
   "outputs": [],
   "source": [
    "things = [\"mozzarella\", \"cinderella\", \"salmonella\"]\n",
    "\n",
    "# Capitalize the element referring to a person\n",
    "things[1] = things[1].capitalize()\n",
    "\n",
    "# Print the modified list\n",
    "print(things)\n"
   ]
  },
  {
   "cell_type": "code",
   "execution_count": null,
   "id": "7bb8d3f2",
   "metadata": {},
   "outputs": [],
   "source": [
    "6. Make a surprise list with the elements \"Groucho,\" \"Chico,\" and \"Harpo.\""
   ]
  },
  {
   "cell_type": "code",
   "execution_count": null,
   "id": "79835ea9",
   "metadata": {},
   "outputs": [],
   "source": [
    "surprise = [\"Groucho\", \"Chico\", \"Harpo\"]\n"
   ]
  },
  {
   "cell_type": "code",
   "execution_count": null,
   "id": "5709f0e2",
   "metadata": {},
   "outputs": [],
   "source": [
    "7. Lowercase the last element of the surprise list, reverse it, and then capitalize it."
   ]
  },
  {
   "cell_type": "code",
   "execution_count": null,
   "id": "a866e1d6",
   "metadata": {},
   "outputs": [],
   "source": [
    "surprise = [\"Groucho\", \"Chico\", \"Harpo\"]\n",
    "\n",
    "# Lowercase the last element, reverse it, and capitalize it\n",
    "last_element = surprise[-1].lower()[::-1].capitalize()\n",
    "\n",
    "# Replace the last element with the modified value\n",
    "surprise[-1] = last_element\n",
    "\n",
    "# Print the modified list\n",
    "print(surprise)\n"
   ]
  },
  {
   "cell_type": "code",
   "execution_count": null,
   "id": "68b3ce32",
   "metadata": {},
   "outputs": [],
   "source": [
    "8. Make an English-to-French dictionary called e2f and print it. Here are your starter words: dog is chien, cat is chat, and walrus is morse."
   ]
  },
  {
   "cell_type": "code",
   "execution_count": null,
   "id": "8ad5cccd",
   "metadata": {},
   "outputs": [],
   "source": [
    "# Create the English-to-French dictionary\n",
    "e2f = {\n",
    "    'dog': 'chien',\n",
    "    'cat': 'chat',\n",
    "    'walrus': 'morse'\n",
    "}\n",
    "\n",
    "# Print the e2f dictionary\n",
    "print(e2f)\n"
   ]
  },
  {
   "cell_type": "code",
   "execution_count": null,
   "id": "2213936d",
   "metadata": {},
   "outputs": [],
   "source": [
    "9. Write the French word for walrus in your three-word dictionary e2f."
   ]
  },
  {
   "cell_type": "code",
   "execution_count": null,
   "id": "be76fe57",
   "metadata": {},
   "outputs": [],
   "source": [
    "# Access the French word for \"walrus\" in the e2f dictionary\n",
    "french_word_for_walrus = e2f['walrus']\n",
    "\n",
    "# Print the French word for \"walrus\"\n",
    "print(\"The French word for 'walrus' is:\", french_word_for_walrus)\n"
   ]
  },
  {
   "cell_type": "code",
   "execution_count": null,
   "id": "5cbaffc6",
   "metadata": {},
   "outputs": [],
   "source": [
    "10. Make a French-to-English dictionary called f2e from e2f. Use the items method."
   ]
  },
  {
   "cell_type": "code",
   "execution_count": null,
   "id": "b1a8c560",
   "metadata": {},
   "outputs": [],
   "source": [
    "# Create the French-to-English dictionary f2e from e2f using items()\n",
    "f2e = {french: english for english, french in e2f.items()}\n",
    "\n",
    "# Print the f2e dictionary\n",
    "print(f2e)\n"
   ]
  },
  {
   "cell_type": "code",
   "execution_count": null,
   "id": "95c88c2f",
   "metadata": {},
   "outputs": [],
   "source": [
    "11. Print the English version of the French word chien using f2e."
   ]
  },
  {
   "cell_type": "code",
   "execution_count": null,
   "id": "833ecded",
   "metadata": {},
   "outputs": [],
   "source": [
    "# Access the English version of the French word \"chien\" in the f2e dictionary\n",
    "english_word_for_chien = f2e['chien']\n",
    "\n",
    "# Print the English version of \"chien\"\n",
    "print(\"The English word for 'chien' is:\", english_word_for_chien)\n"
   ]
  },
  {
   "cell_type": "code",
   "execution_count": null,
   "id": "91bbe1e6",
   "metadata": {},
   "outputs": [],
   "source": [
    "12. Make and print a set of English words from the keys in e2f."
   ]
  },
  {
   "cell_type": "code",
   "execution_count": null,
   "id": "34a0b65e",
   "metadata": {},
   "outputs": [],
   "source": [
    "# Create a set of English words from the keys in e2f\n",
    "english_words_set = set(e2f.keys())\n",
    "\n",
    "# Print the set of English words\n",
    "print(english_words_set)\n"
   ]
  },
  {
   "cell_type": "code",
   "execution_count": null,
   "id": "f5213c9d",
   "metadata": {},
   "outputs": [],
   "source": [
    "13. Make a multilevel dictionary called life. Use these strings for the topmost keys: 'animals', 'plants', and 'other'. Make the 'animals' key refer to another dictionary with the keys 'cats', 'octopi', and 'emus'. Make the 'cats' key refer to a list of strings with the values 'Henri', 'Grumpy', and 'Lucy'. Make all the other keys refer to empty dictionaries."
   ]
  },
  {
   "cell_type": "code",
   "execution_count": null,
   "id": "906e4b23",
   "metadata": {},
   "outputs": [],
   "source": [
    "life = {\n",
    "    'animals': {\n",
    "        'cats': ['Henri', 'Grumpy', 'Lucy'],\n",
    "        'octopi': {},\n",
    "        'emus': {}\n",
    "    },\n",
    "    'plants': {},\n",
    "    'other': {}\n",
    "}\n",
    "\n",
    "# Print the life dictionary\n",
    "print(life)\n"
   ]
  },
  {
   "cell_type": "code",
   "execution_count": null,
   "id": "f6383f09",
   "metadata": {},
   "outputs": [],
   "source": [
    "14. Print the top-level keys of life."
   ]
  },
  {
   "cell_type": "code",
   "execution_count": null,
   "id": "218fe9c9",
   "metadata": {},
   "outputs": [],
   "source": [
    "# Print the top-level keys of the life dictionary\n",
    "top_level_keys = life.keys()\n",
    "print(list(top_level_keys))\n"
   ]
  },
  {
   "cell_type": "code",
   "execution_count": null,
   "id": "dbdf65dc",
   "metadata": {},
   "outputs": [],
   "source": [
    "15. Print the keys for life['animals']."
   ]
  },
  {
   "cell_type": "code",
   "execution_count": null,
   "id": "da4162ae",
   "metadata": {},
   "outputs": [],
   "source": [
    "# Print the keys for life['animals']\n",
    "animal_keys = life['animals'].keys()\n",
    "print(list(animal_keys))\n"
   ]
  },
  {
   "cell_type": "code",
   "execution_count": null,
   "id": "67ebd9f4",
   "metadata": {},
   "outputs": [],
   "source": [
    "16. Print the values for life['animals']['cats']"
   ]
  },
  {
   "cell_type": "code",
   "execution_count": null,
   "id": "37a7a180",
   "metadata": {},
   "outputs": [],
   "source": [
    "# Print the values for life['animals']['cats']\n",
    "cat_names = life['animals']['cats']\n",
    "print(cat_names)\n"
   ]
  }
 ],
 "metadata": {
  "kernelspec": {
   "display_name": "Python 3 (ipykernel)",
   "language": "python",
   "name": "python3"
  },
  "language_info": {
   "codemirror_mode": {
    "name": "ipython",
    "version": 3
   },
   "file_extension": ".py",
   "mimetype": "text/x-python",
   "name": "python",
   "nbconvert_exporter": "python",
   "pygments_lexer": "ipython3",
   "version": "3.9.13"
  }
 },
 "nbformat": 4,
 "nbformat_minor": 5
}
