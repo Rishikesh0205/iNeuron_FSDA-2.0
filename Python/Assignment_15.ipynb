{
 "cells": [
  {
   "cell_type": "code",
   "execution_count": null,
   "id": "c3bd242e",
   "metadata": {},
   "outputs": [],
   "source": [
    "1.How many seconds are in an hour? Use the interactive interpreter as a calculator and multiply the number of seconds in a minute (60) by the number of minutes in an hour (also 60)."
   ]
  },
  {
   "cell_type": "code",
   "execution_count": null,
   "id": "4bdd0c95",
   "metadata": {},
   "outputs": [],
   "source": [
    "60 * 60\n"
   ]
  },
  {
   "cell_type": "code",
   "execution_count": null,
   "id": "1ad04cfc",
   "metadata": {},
   "outputs": [],
   "source": [
    "2. Assign the result from the previous task (seconds in an hour) to a variable called seconds_per_hour."
   ]
  },
  {
   "cell_type": "code",
   "execution_count": null,
   "id": "5ce92990",
   "metadata": {},
   "outputs": [],
   "source": [
    "seconds_per_hour = 60 * 60\n"
   ]
  },
  {
   "cell_type": "code",
   "execution_count": null,
   "id": "72cbe501",
   "metadata": {},
   "outputs": [],
   "source": [
    "3. How many seconds do you think there are in a day? Make use of the variables seconds per hour and minutes per hour."
   ]
  },
  {
   "cell_type": "code",
   "execution_count": null,
   "id": "c0f62b21",
   "metadata": {},
   "outputs": [],
   "source": [
    "seconds_per_hour = 60 * 60\n",
    "hours_per_day = 24\n",
    "seconds_per_day = seconds_per_hour * hours_per_day\n"
   ]
  },
  {
   "cell_type": "code",
   "execution_count": null,
   "id": "d8457488",
   "metadata": {},
   "outputs": [],
   "source": [
    "4. Calculate seconds per day again, but this time save the result in a variable called seconds_per_day\n"
   ]
  },
  {
   "cell_type": "code",
   "execution_count": null,
   "id": "98fad1fb",
   "metadata": {},
   "outputs": [],
   "source": [
    "seconds_per_hour = 60 * 60\n",
    "hours_per_day = 24\n",
    "seconds_per_day = seconds_per_hour * hours_per_day\n"
   ]
  },
  {
   "cell_type": "code",
   "execution_count": null,
   "id": "621d2465",
   "metadata": {},
   "outputs": [],
   "source": [
    "5. Divide seconds_per_day by seconds_per_hour. Use floating-point (/) division."
   ]
  },
  {
   "cell_type": "code",
   "execution_count": null,
   "id": "2cab52f4",
   "metadata": {},
   "outputs": [],
   "source": [
    "seconds_per_hour = 60 * 60\n",
    "seconds_per_day = seconds_per_hour * 24\n",
    "hours_in_a_day = seconds_per_day / seconds_per_hour\n"
   ]
  },
  {
   "cell_type": "code",
   "execution_count": null,
   "id": "45d5b62c",
   "metadata": {},
   "outputs": [],
   "source": [
    "6. Divide seconds_per_day by seconds_per_hour, using integer (//) division. Did this number agree with the floating-point value from the previous question, aside from the final .0?"
   ]
  },
  {
   "cell_type": "code",
   "execution_count": null,
   "id": "ccb1a51d",
   "metadata": {},
   "outputs": [],
   "source": [
    "seconds_per_hour = 60 * 60\n",
    "seconds_per_day = seconds_per_hour * 24\n",
    "hours_in_a_day_integer_division = seconds_per_day // seconds_per_hour\n"
   ]
  },
  {
   "cell_type": "code",
   "execution_count": null,
   "id": "729ac2a0",
   "metadata": {},
   "outputs": [],
   "source": [
    "7. Write a generator, genPrimes, that returns the sequence of prime numbers on successive calls to its next() method: 2, 3, 5, 7, 11, ..."
   ]
  },
  {
   "cell_type": "code",
   "execution_count": null,
   "id": "08f2d7a9",
   "metadata": {},
   "outputs": [],
   "source": [
    "def genPrimes():\n",
    "    primes = []  # Initialize an empty list to store prime numbers\n",
    "    num = 2     # Start with the first prime number, 2\n",
    "\n",
    "    while True:\n",
    "        is_prime = all(num % p != 0 for p in primes)  # Check if the number is prime\n",
    "\n",
    "        if is_prime:\n",
    "            primes.append(num)  # If it's prime, add it to the list of primes\n",
    "            yield num          # Yield the prime number\n",
    "\n",
    "        num += 1  # Move on to the next number\n",
    "\n",
    "# Example usage:\n",
    "prime_generator = genPrimes()\n",
    "for _ in range(10):\n",
    "    print(next(prime_generator))\n"
   ]
  }
 ],
 "metadata": {
  "kernelspec": {
   "display_name": "Python 3 (ipykernel)",
   "language": "python",
   "name": "python3"
  },
  "language_info": {
   "codemirror_mode": {
    "name": "ipython",
    "version": 3
   },
   "file_extension": ".py",
   "mimetype": "text/x-python",
   "name": "python",
   "nbconvert_exporter": "python",
   "pygments_lexer": "ipython3",
   "version": "3.9.13"
  }
 },
 "nbformat": 4,
 "nbformat_minor": 5
}
