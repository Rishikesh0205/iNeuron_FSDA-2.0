{
 "cells": [
  {
   "cell_type": "code",
   "execution_count": null,
   "id": "d8b014e2",
   "metadata": {},
   "outputs": [],
   "source": [
    "1. What advantages do Excel spreadsheets have over CSV spreadsheets?"
   ]
  },
  {
   "cell_type": "code",
   "execution_count": null,
   "id": "a3836731",
   "metadata": {},
   "outputs": [],
   "source": [
    "Advantages of Excel spreasheet over CSV spreasheet are\n",
    "a)Rich formatting and styling\n",
    "b)Multiple Worksheet\n",
    "c)Formulas and functions\n",
    "d)Charts and Graphs\n",
    "e)Conditional Formatting\n",
    "f)Macros and VBA"
   ]
  },
  {
   "cell_type": "code",
   "execution_count": null,
   "id": "93947dbb",
   "metadata": {},
   "outputs": [],
   "source": [
    "2.What do you pass to csv.reader() and csv.writer() to create reader and writer objects?"
   ]
  },
  {
   "cell_type": "code",
   "execution_count": null,
   "id": "4a9c93d6",
   "metadata": {},
   "outputs": [],
   "source": [
    "We need to pass a file object as an argument to csv.reader() and csv.writer(). "
   ]
  },
  {
   "cell_type": "code",
   "execution_count": null,
   "id": "783b2326",
   "metadata": {},
   "outputs": [],
   "source": [
    "3. What modes do File objects for reader and writer objects need to be opened in?"
   ]
  },
  {
   "cell_type": "code",
   "execution_count": null,
   "id": "7c2c8f18",
   "metadata": {},
   "outputs": [],
   "source": [
    "File objects for reader and writer objects created using the csv module in Python need to be opened in the following modes:\n",
    "a)Reader Object\n",
    "b)Writer Object"
   ]
  },
  {
   "cell_type": "code",
   "execution_count": null,
   "id": "90241b3d",
   "metadata": {},
   "outputs": [],
   "source": [
    "4. What method takes a list argument and writes it to a CSV file?"
   ]
  },
  {
   "cell_type": "code",
   "execution_count": null,
   "id": "5ba0ad88",
   "metadata": {},
   "outputs": [],
   "source": [
    "writerow() method takes a list argument and writes it to a CSV file"
   ]
  },
  {
   "cell_type": "code",
   "execution_count": null,
   "id": "6e2e88c1",
   "metadata": {},
   "outputs": [],
   "source": [
    "5. What do the keyword arguments delimiter and line terminator do?"
   ]
  },
  {
   "cell_type": "code",
   "execution_count": null,
   "id": "0aae4985",
   "metadata": {},
   "outputs": [],
   "source": [
    "The delimiter argument allows us to specify the character or sequence of characters used to separate fields (columns) within a CSV row. \n",
    "\n",
    "The lineterminator argument allows us to specify the character or sequence of characters used to terminate lines in the output file. "
   ]
  },
  {
   "cell_type": "code",
   "execution_count": null,
   "id": "676208c7",
   "metadata": {},
   "outputs": [],
   "source": [
    "6. What function takes a string of JSON data and returns a Python data structure?"
   ]
  },
  {
   "cell_type": "code",
   "execution_count": null,
   "id": "0fad5f12",
   "metadata": {},
   "outputs": [],
   "source": [
    "json.loads() function takes a string of JSON data and returns a Python data structure."
   ]
  },
  {
   "cell_type": "code",
   "execution_count": null,
   "id": "987ffc5e",
   "metadata": {},
   "outputs": [],
   "source": [
    "7. What function takes a Python data structure and returns a string of JSON data?"
   ]
  },
  {
   "cell_type": "code",
   "execution_count": null,
   "id": "26e40191",
   "metadata": {},
   "outputs": [],
   "source": [
    "json.dumps() function takes a Python data structure and returns a string of JSON data"
   ]
  }
 ],
 "metadata": {
  "kernelspec": {
   "display_name": "Python 3 (ipykernel)",
   "language": "python",
   "name": "python3"
  },
  "language_info": {
   "codemirror_mode": {
    "name": "ipython",
    "version": 3
   },
   "file_extension": ".py",
   "mimetype": "text/x-python",
   "name": "python",
   "nbconvert_exporter": "python",
   "pygments_lexer": "ipython3",
   "version": "3.9.13"
  }
 },
 "nbformat": 4,
 "nbformat_minor": 5
}
