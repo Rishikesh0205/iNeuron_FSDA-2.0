{
 "cells": [
  {
   "cell_type": "code",
   "execution_count": null,
   "id": "00c51d3f",
   "metadata": {},
   "outputs": [],
   "source": [
    "1. Create a zoo.py file first. Define the hours() function, which prints the string 'Open 9-5 daily'. Then, use the interactive interpreter to import the zoo module and call its hours() function."
   ]
  },
  {
   "cell_type": "code",
   "execution_count": null,
   "id": "feedd682",
   "metadata": {},
   "outputs": [],
   "source": [
    "# zoo.py\n",
    "\n",
    "def hours():\n",
    "    print('Open 9-5 daily')\n",
    "\n",
    "    \n",
    "# Import the zoo module\n",
    "import zoo\n",
    "\n",
    "# Call the hours() function from the zoo module\n",
    "zoo.hours()\n"
   ]
  },
  {
   "cell_type": "code",
   "execution_count": null,
   "id": "8caf5c8b",
   "metadata": {},
   "outputs": [],
   "source": [
    "2. In the interactive interpreter, import the zoo module as menagerie and call its hours() function."
   ]
  },
  {
   "cell_type": "code",
   "execution_count": null,
   "id": "e000efaf",
   "metadata": {},
   "outputs": [],
   "source": [
    "# Import the zoo module as menagerie\n",
    "import zoo as menagerie\n",
    "\n",
    "# Call the hours() function from the menagerie module\n",
    "menagerie.hours()\n"
   ]
  },
  {
   "cell_type": "code",
   "execution_count": null,
   "id": "529c0ffe",
   "metadata": {},
   "outputs": [],
   "source": [
    "3. Using the interpreter, explicitly import and call the hours() function from zoo."
   ]
  },
  {
   "cell_type": "code",
   "execution_count": null,
   "id": "b8ce10b5",
   "metadata": {},
   "outputs": [],
   "source": [
    "# Explicitly import the hours() function from zoo\n",
    "from zoo import hours\n",
    "\n",
    "# Call the imported hours() function\n",
    "hours()\n"
   ]
  },
  {
   "cell_type": "code",
   "execution_count": null,
   "id": "1ab87936",
   "metadata": {},
   "outputs": [],
   "source": [
    "4. Import the hours() function as info and call it."
   ]
  },
  {
   "cell_type": "code",
   "execution_count": null,
   "id": "28c8c4f0",
   "metadata": {},
   "outputs": [],
   "source": [
    "# Import the hours() function from zoo with the alias info\n",
    "from zoo import hours as info\n",
    "\n",
    "# Call the imported function using the alias\n",
    "info()\n"
   ]
  },
  {
   "cell_type": "code",
   "execution_count": null,
   "id": "917a7845",
   "metadata": {},
   "outputs": [],
   "source": [
    "5. Create a plain dictionary with the key-value pairs 'a': 1, 'b': 2, and 'c': 3, and print it out."
   ]
  },
  {
   "cell_type": "code",
   "execution_count": null,
   "id": "58554394",
   "metadata": {},
   "outputs": [],
   "source": [
    "# Create a plain dictionary\n",
    "my_dict = {'a': 1, 'b': 2, 'c': 3}\n",
    "\n",
    "# Print the dictionary\n",
    "print(my_dict)\n"
   ]
  },
  {
   "cell_type": "code",
   "execution_count": null,
   "id": "401617b5",
   "metadata": {},
   "outputs": [],
   "source": [
    "6.Make an OrderedDict called fancy from the same pairs listed in 5 and print it. Did it print in the same order as plain?"
   ]
  },
  {
   "cell_type": "code",
   "execution_count": null,
   "id": "8cf27f34",
   "metadata": {},
   "outputs": [],
   "source": [
    "from collections import OrderedDict\n",
    "\n",
    "# Create an OrderedDict called fancy\n",
    "fancy = OrderedDict([('a', 1), ('b', 2), ('c', 3)])\n",
    "\n",
    "# Print the OrderedDict\n",
    "print(fancy)\n"
   ]
  },
  {
   "cell_type": "code",
   "execution_count": null,
   "id": "d637226f",
   "metadata": {},
   "outputs": [],
   "source": [
    "7. Make a default dictionary called dict_of_lists and pass it the argument list. Make the list dict_of_lists['a'] and append the value 'something for a' to it in one assignment. Print dict_of_lists['a']."
   ]
  },
  {
   "cell_type": "code",
   "execution_count": null,
   "id": "602b1ed6",
   "metadata": {},
   "outputs": [],
   "source": [
    "from collections import defaultdict\n",
    "\n",
    "# Create a defaultdict with the argument 'list'\n",
    "dict_of_lists = defaultdict(list)\n",
    "\n",
    "# Append 'something for a' to dict_of_lists['a'] in one assignment\n",
    "dict_of_lists['a'].append('something for a')\n",
    "\n",
    "# Print dict_of_lists['a']\n",
    "print(dict_of_lists['a'])\n"
   ]
  }
 ],
 "metadata": {
  "kernelspec": {
   "display_name": "Python 3 (ipykernel)",
   "language": "python",
   "name": "python3"
  },
  "language_info": {
   "codemirror_mode": {
    "name": "ipython",
    "version": 3
   },
   "file_extension": ".py",
   "mimetype": "text/x-python",
   "name": "python",
   "nbconvert_exporter": "python",
   "pygments_lexer": "ipython3",
   "version": "3.9.13"
  }
 },
 "nbformat": 4,
 "nbformat_minor": 5
}
