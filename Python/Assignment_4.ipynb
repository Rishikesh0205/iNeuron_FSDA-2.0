{
 "cells": [
  {
   "cell_type": "raw",
   "id": "7b7b3cce",
   "metadata": {},
   "source": [
    "1. What exactly is []?"
   ]
  },
  {
   "cell_type": "raw",
   "id": "c70d421b",
   "metadata": {},
   "source": [
    "[] represnts an empty list in Python"
   ]
  },
  {
   "cell_type": "raw",
   "id": "7c5f852b",
   "metadata": {},
   "source": [
    "2. In a list of values stored in a variable called spam, how would you assign the value 'hello' as the third value? (Assume [2, 4, 6, 8, 10] are in spam.)\n",
    "Let's pretend the spam includes the list ['a', 'b', 'c', 'd'] for the next three queries."
   ]
  },
  {
   "cell_type": "code",
   "execution_count": 5,
   "id": "bd307976",
   "metadata": {},
   "outputs": [],
   "source": [
    "spam = ['a', 'b', 'c', 'd']  # Original list\n",
    "\n",
    "# Assign 'hello' as the third value (at index 2)\n",
    "spam[2] = 'hello'\n"
   ]
  },
  {
   "cell_type": "code",
   "execution_count": null,
   "id": "0effb23b",
   "metadata": {},
   "outputs": [],
   "source": [
    "3. What is the value of spam[int(int('3' * 2) / 11)]?"
   ]
  },
  {
   "cell_type": "raw",
   "id": "c91aaf90",
   "metadata": {},
   "source": [
    "The expression int('3' * 2) evaluates to 33 because it concatenates two strings '3' to form '33' and then converts it to an integer.\n",
    "\n",
    "Next, int('33') / 11 evaluates to 3.0 because it divides the integer 33 by 11, resulting in a floating-point value.\n",
    "\n",
    "Finally, spam[int(3.0)] is equivalent to spam[3], and when you access the element at index 3 in the list spam, you get the value 'd'.\n",
    "\n",
    "So, the value of spam[int(int('3' * 2) / 11)] is 'd'"
   ]
  },
  {
   "cell_type": "code",
   "execution_count": null,
   "id": "5104a5f1",
   "metadata": {},
   "outputs": [],
   "source": [
    "4. What is the value of spam[-1]?"
   ]
  },
  {
   "cell_type": "code",
   "execution_count": null,
   "id": "50052c3b",
   "metadata": {},
   "outputs": [],
   "source": [
    "'d'"
   ]
  },
  {
   "cell_type": "code",
   "execution_count": null,
   "id": "16ca29ad",
   "metadata": {},
   "outputs": [],
   "source": [
    "5. What is the value of spam[:2]?"
   ]
  },
  {
   "cell_type": "code",
   "execution_count": null,
   "id": "89dbcf42",
   "metadata": {},
   "outputs": [],
   "source": [
    "'a','b'"
   ]
  },
  {
   "cell_type": "code",
   "execution_count": null,
   "id": "41c139bd",
   "metadata": {},
   "outputs": [],
   "source": [
    "6. Let's pretend bacon has the list [3.14, 'cat,' 11, 'cat,' True] for the next three questions.\n",
    " What is the value of bacon.index('cat')?"
   ]
  },
  {
   "cell_type": "code",
   "execution_count": null,
   "id": "b95ec3cb",
   "metadata": {},
   "outputs": [],
   "source": [
    "1"
   ]
  },
  {
   "cell_type": "code",
   "execution_count": null,
   "id": "a4e7aff5",
   "metadata": {},
   "outputs": [],
   "source": [
    "7. How does bacon.append(99) change the look of the list value in bacon?"
   ]
  },
  {
   "cell_type": "code",
   "execution_count": null,
   "id": "b2fe4c5a",
   "metadata": {},
   "outputs": [],
   "source": [
    "[3.14, 'cat', 11, 'cat', True, 99]\n"
   ]
  },
  {
   "cell_type": "code",
   "execution_count": null,
   "id": "9c143d01",
   "metadata": {},
   "outputs": [],
   "source": [
    "8. How does bacon.remove('cat') change the look of the list in bacon?"
   ]
  },
  {
   "cell_type": "code",
   "execution_count": null,
   "id": "460a6429",
   "metadata": {},
   "outputs": [],
   "source": [
    "[3.14, 11, 'cat', True]\n"
   ]
  },
  {
   "cell_type": "code",
   "execution_count": null,
   "id": "16bcb8e9",
   "metadata": {},
   "outputs": [],
   "source": [
    "9. What are the list concatenation and list replication operators?"
   ]
  },
  {
   "cell_type": "code",
   "execution_count": null,
   "id": "c2e9a63b",
   "metadata": {},
   "outputs": [],
   "source": [
    "List Concatenation operator is used to concatenate list using '+' operator. E.g.\n",
    "list1 = [1, 2, 3]\n",
    "list2 = [4, 5, 6]\n",
    "result = list1 + list2\n",
    "# result will be [1, 2, 3, 4, 5, 6]\n",
    "\n",
    "List replication operator used to replicate the list using '*' operator\n",
    "original_list = [1, 2, 3]\n",
    "replicated_list = original_list * 3\n",
    "# replicated_list will be [1, 2, 3, 1, 2, 3, 1, 2, 3]\n"
   ]
  },
  {
   "cell_type": "code",
   "execution_count": null,
   "id": "efac3be2",
   "metadata": {},
   "outputs": [],
   "source": [
    "10. What is difference between the list methods append() and insert()?"
   ]
  },
  {
   "cell_type": "code",
   "execution_count": null,
   "id": "f95a559c",
   "metadata": {},
   "outputs": [],
   "source": [
    "Append() method is used to insert a value at the end of a list. Insert() method is used to insert value at a particular index"
   ]
  },
  {
   "cell_type": "code",
   "execution_count": null,
   "id": "778167d7",
   "metadata": {},
   "outputs": [],
   "source": [
    "11. What are the two methods for removing items from a list?"
   ]
  },
  {
   "cell_type": "code",
   "execution_count": null,
   "id": "023cbbf8",
   "metadata": {},
   "outputs": [],
   "source": [
    "2 methods are\n",
    "a)Remove() : to remove 1st occurence of a specific value in a list\n",
    "b)Pop() : to remove element from a list by index"
   ]
  },
  {
   "cell_type": "code",
   "execution_count": null,
   "id": "b05dc787",
   "metadata": {},
   "outputs": [],
   "source": [
    "12. Describe how list values and string values are identical."
   ]
  },
  {
   "cell_type": "code",
   "execution_count": null,
   "id": "fb522043",
   "metadata": {},
   "outputs": [],
   "source": [
    "List Values and String Values have several similarities such as Order Sequence, Indexing, Slicing, Iteratibility, Length."
   ]
  },
  {
   "cell_type": "raw",
   "id": "fe82f163",
   "metadata": {},
   "source": [
    "13. What's the difference between tuples and lists?"
   ]
  },
  {
   "cell_type": "code",
   "execution_count": null,
   "id": "d8ce9927",
   "metadata": {},
   "outputs": [],
   "source": [
    "Key differences include\n",
    "a)Mutability : Lists are mutable but Tuples are not\n",
    "b)Usage: List used for collection of item while tuple used to maintain data integrity"
   ]
  },
  {
   "cell_type": "code",
   "execution_count": null,
   "id": "56fa4976",
   "metadata": {},
   "outputs": [],
   "source": [
    "14. How do you type a tuple value that only contains the integer 42?"
   ]
  },
  {
   "cell_type": "code",
   "execution_count": null,
   "id": "f0e89949",
   "metadata": {},
   "outputs": [],
   "source": [
    "my_tuple = (42,)\n"
   ]
  },
  {
   "cell_type": "code",
   "execution_count": null,
   "id": "0b45027b",
   "metadata": {},
   "outputs": [],
   "source": [
    "15. How do you get a list value's tuple form? How do you get a tuple value's list form?"
   ]
  },
  {
   "cell_type": "code",
   "execution_count": null,
   "id": "b570b962",
   "metadata": {},
   "outputs": [],
   "source": [
    "1)Convert a list to tuple\n",
    "my_list = [1, 2, 3, 4, 5]\n",
    "my_tuple = tuple(my_list)\n",
    "\n",
    "2)Convert a tuple to list\n",
    "my_tuple = (1, 2, 3, 4, 5)\n",
    "my_list = list(my_tuple)\n",
    "\n"
   ]
  },
  {
   "cell_type": "code",
   "execution_count": null,
   "id": "26ce8167",
   "metadata": {},
   "outputs": [],
   "source": [
    "16. Variables that \"contain\" list values are not necessarily lists themselves. Instead, what do they contain?"
   ]
  },
  {
   "cell_type": "code",
   "execution_count": null,
   "id": "3c662087",
   "metadata": {},
   "outputs": [],
   "source": [
    "They contain reference to a pointer in a list"
   ]
  },
  {
   "cell_type": "code",
   "execution_count": null,
   "id": "d5492c82",
   "metadata": {},
   "outputs": [],
   "source": [
    "17. How do you distinguish between copy.copy() and copy.deepcopy()?"
   ]
  },
  {
   "cell_type": "code",
   "execution_count": null,
   "id": "07323a73",
   "metadata": {},
   "outputs": [],
   "source": [
    "copy.copy() is used to create shallow copy of an object\n",
    "copy.deepcopy() is used to create deep copy of an object"
   ]
  }
 ],
 "metadata": {
  "kernelspec": {
   "display_name": "Python 3 (ipykernel)",
   "language": "python",
   "name": "python3"
  },
  "language_info": {
   "codemirror_mode": {
    "name": "ipython",
    "version": 3
   },
   "file_extension": ".py",
   "mimetype": "text/x-python",
   "name": "python",
   "nbconvert_exporter": "python",
   "pygments_lexer": "ipython3",
   "version": "3.9.13"
  }
 },
 "nbformat": 4,
 "nbformat_minor": 5
}
