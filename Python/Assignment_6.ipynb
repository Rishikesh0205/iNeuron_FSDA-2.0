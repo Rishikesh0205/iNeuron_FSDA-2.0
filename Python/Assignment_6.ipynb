{
 "cells": [
  {
   "cell_type": "code",
   "execution_count": null,
   "id": "9e94527e",
   "metadata": {},
   "outputs": [],
   "source": [
    "1. What are escape characters, and how do you use them?"
   ]
  },
  {
   "cell_type": "code",
   "execution_count": null,
   "id": "075556bb",
   "metadata": {},
   "outputs": [],
   "source": [
    "Escape characters are used to insert characters that have special meanings or to represent characters that can't be easily typed or displayed.\n",
    "\n",
    "Escape characters are special characters in a string that are preceded by a backslash \\. They are used to represent characters that are difficult or impossible to include directly in a string. Escape characters are used to insert characters that have special meanings or to represent characters that can't be easily typed or displayed.\n",
    "\n",
    "Here are some common escape characters in Python:\n",
    "\n",
    "'\\\\': Backslash itself.\n",
    "'\\'': Single quote.\n",
    "'\\\"': Double quote.\n",
    "'\\n': Newline (line break).\n",
    "'\\t': Tab.\n",
    "'\\r': Carriage return (used in some text file formats).\n",
    "'\\b': Backspace.\n",
    "'\\f': Form feed."
   ]
  },
  {
   "cell_type": "code",
   "execution_count": null,
   "id": "9693fbc8",
   "metadata": {},
   "outputs": [],
   "source": [
    "2. What do the escape characters n and t stand for?"
   ]
  },
  {
   "cell_type": "code",
   "execution_count": null,
   "id": "c4caf65a",
   "metadata": {},
   "outputs": [],
   "source": [
    "n stands for New Line character and t stands for tab character"
   ]
  },
  {
   "cell_type": "code",
   "execution_count": null,
   "id": "7cc329e5",
   "metadata": {},
   "outputs": [],
   "source": [
    "3. What is the way to include backslash characters in a string?"
   ]
  },
  {
   "cell_type": "code",
   "execution_count": null,
   "id": "bb9c597e",
   "metadata": {},
   "outputs": [],
   "source": [
    "Doble backslash '\\\\' i used to include backslash character"
   ]
  },
  {
   "cell_type": "code",
   "execution_count": null,
   "id": "ee5f2642",
   "metadata": {},
   "outputs": [],
   "source": [
    "4. The string \"Howl's Moving Castle\" is a correct value. Why isn't the single quote character in the word Howl's not escaped a problem?"
   ]
  },
  {
   "cell_type": "code",
   "execution_count": null,
   "id": "5cd3332e",
   "metadata": {
    "collapsed": true
   },
   "outputs": [],
   "source": [
    "Single quote is not causing problem because the string is enclosed in double quote."
   ]
  },
  {
   "cell_type": "code",
   "execution_count": null,
   "id": "0cfeb761",
   "metadata": {},
   "outputs": [],
   "source": [
    "5. How do you write a string of newlines if you don't want to use the n character?"
   ]
  },
  {
   "cell_type": "code",
   "execution_count": null,
   "id": "209c84ee",
   "metadata": {},
   "outputs": [],
   "source": [
    "By using triple quoted strings\n",
    "multi_line_string = '''\n",
    "This is line 1.\n",
    "This is line 2.\n",
    "This is line 3.\n",
    "'''\n",
    "\n",
    "print(multi_line_string)\n"
   ]
  },
  {
   "cell_type": "code",
   "execution_count": null,
   "id": "d861af4c",
   "metadata": {},
   "outputs": [],
   "source": [
    "6. What are the values of the given expressions?\n",
    "'Hello, world!'[1]\n",
    "'Hello, world!'[0:5]\n",
    "'Hello, world!'[:5]\n",
    "'Hello, world!'[3:]\n"
   ]
  },
  {
   "cell_type": "code",
   "execution_count": null,
   "id": "50dd4037",
   "metadata": {},
   "outputs": [],
   "source": [
    "Values are\n",
    "'e'\n",
    "'Hello'\n",
    "'Hello'\n",
    "'lo, world'"
   ]
  },
  {
   "cell_type": "code",
   "execution_count": null,
   "id": "982e664b",
   "metadata": {},
   "outputs": [],
   "source": [
    "7. What are the values of the following expressions?\n",
    "'Hello'.upper()\n",
    "'Hello'.upper().isupper()\n",
    "'Hello'.upper().lower()\n"
   ]
  },
  {
   "cell_type": "code",
   "execution_count": null,
   "id": "bffbbcf6",
   "metadata": {},
   "outputs": [],
   "source": [
    "Values are\n",
    "'HELLO'\n",
    "'True'\n",
    "'hello'"
   ]
  },
  {
   "cell_type": "code",
   "execution_count": null,
   "id": "b8322408",
   "metadata": {},
   "outputs": [],
   "source": [
    "8. What are the values of the following expressions?\n",
    "'Remember, remember, the fifth of July.'.split()\n",
    "'-'.join('There can only one.'.split())\n"
   ]
  },
  {
   "cell_type": "code",
   "execution_count": null,
   "id": "4a957611",
   "metadata": {},
   "outputs": [],
   "source": [
    "Values are\n",
    "'['Remember,', 'remember,', 'the', 'fifth', 'of', 'July.']'\n",
    "'There-can-only-one.'\n"
   ]
  },
  {
   "cell_type": "code",
   "execution_count": null,
   "id": "69b09576",
   "metadata": {},
   "outputs": [],
   "source": [
    "9. What are the methods for right-justifying, left-justifying, and centering a string?"
   ]
  },
  {
   "cell_type": "code",
   "execution_count": null,
   "id": "d724ab73",
   "metadata": {},
   "outputs": [],
   "source": [
    "Right justify\n",
    "original_string = 'Hello'\n",
    "justified_string = original_string.rjust(10, '-')\n",
    "\n",
    "Left Justify\n",
    "original_string = 'Hello'\n",
    "justified_string = original_string.ljust(10, '-')\n",
    "\n",
    "Centre Justify\n",
    "original_string = 'Hello'\n",
    "centered_string = original_string.center(10, '-')\n"
   ]
  },
  {
   "cell_type": "code",
   "execution_count": null,
   "id": "66093187",
   "metadata": {},
   "outputs": [],
   "source": [
    "10. What is the best way to remove whitespace characters from the start or end?"
   ]
  },
  {
   "cell_type": "raw",
   "id": "68951046",
   "metadata": {},
   "source": [
    "strip() method can be used. E.g.\n",
    "\n",
    "original_string = \"  Hello, world!  \"\n",
    "stripped_string = original_string.strip()\n"
   ]
  }
 ],
 "metadata": {
  "kernelspec": {
   "display_name": "Python 3 (ipykernel)",
   "language": "python",
   "name": "python3"
  },
  "language_info": {
   "codemirror_mode": {
    "name": "ipython",
    "version": 3
   },
   "file_extension": ".py",
   "mimetype": "text/x-python",
   "name": "python",
   "nbconvert_exporter": "python",
   "pygments_lexer": "ipython3",
   "version": "3.9.13"
  }
 },
 "nbformat": 4,
 "nbformat_minor": 5
}
