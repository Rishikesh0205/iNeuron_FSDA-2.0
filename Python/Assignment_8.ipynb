{
 "cells": [
  {
   "cell_type": "code",
   "execution_count": null,
   "id": "5553c184",
   "metadata": {},
   "outputs": [],
   "source": [
    "1. Is the Python Standard Library included with PyInputPlus?"
   ]
  },
  {
   "cell_type": "code",
   "execution_count": null,
   "id": "f479acde",
   "metadata": {},
   "outputs": [],
   "source": [
    "No, Python Standard Library is not included with PyInputPlus."
   ]
  },
  {
   "cell_type": "code",
   "execution_count": null,
   "id": "67e0e2b6",
   "metadata": {},
   "outputs": [],
   "source": [
    "2. Why is PyInputPlus commonly imported with import pyinputplus as pypi?\n"
   ]
  },
  {
   "cell_type": "code",
   "execution_count": null,
   "id": "53bfab6b",
   "metadata": {},
   "outputs": [],
   "source": [
    "PyInputPlus is commonly imported with alias 'pypi' for convenience, brevity and Readability."
   ]
  },
  {
   "cell_type": "code",
   "execution_count": null,
   "id": "940e0a83",
   "metadata": {},
   "outputs": [],
   "source": [
    "3. How do you distinguish between inputInt() and inputFloat()?"
   ]
  },
  {
   "cell_type": "code",
   "execution_count": null,
   "id": "aa473b54",
   "metadata": {},
   "outputs": [],
   "source": [
    "inputInt() is used when we want to collect integar from user whereas inputFloat() is used to collect floating point number from user"
   ]
  },
  {
   "cell_type": "code",
   "execution_count": null,
   "id": "4e2fde5a",
   "metadata": {},
   "outputs": [],
   "source": [
    "4. Using PyInputPlus, how do you ensure that the user enters a whole number between 0 and 99?"
   ]
  },
  {
   "cell_type": "code",
   "execution_count": null,
   "id": "692caa65",
   "metadata": {},
   "outputs": [],
   "source": [
    "This can be ensured by using inputInt() method. This is shown in below code\n",
    "\n",
    "import pyinputplus as pyip\n",
    "\n",
    "# Define a custom validation function\n",
    "def validate_user_input(value):\n",
    "    # Check if the value is an integer and within the specified range\n",
    "    if 0 <= value <= 99:\n",
    "        return True\n",
    "    else:\n",
    "        raise ValueError(\"Please enter a whole number between 0 and 99.\")\n",
    "\n",
    "try:\n",
    "    # Prompt the user for input and validate using the custom function\n",
    "    number = pyip.inputInt(prompt=\"Enter a number between 0 and 99: \", allowRegexes=[r'^\\d+$'], blockRegexes=[r'^[+-]?\\d+\\.\\d+$'], validateFunc=validate_user_input)\n",
    "    print(\"You entered:\", number)\n",
    "except pyip.RetryLimitException:\n",
    "    print(\"You exceeded the maximum number of retries.\")\n"
   ]
  },
  {
   "cell_type": "code",
   "execution_count": null,
   "id": "a14d4839",
   "metadata": {},
   "outputs": [],
   "source": [
    "5. What is transferred to the keyword arguments allowRegexes and blockRegexes?"
   ]
  },
  {
   "cell_type": "code",
   "execution_count": null,
   "id": "d5fde417",
   "metadata": {},
   "outputs": [],
   "source": [
    " allowRegexes and blockRegexes allows to specify regular expressions (regex patterns) that define what input patterns are allowed or blocked, respectively, when collecting user input."
   ]
  },
  {
   "cell_type": "code",
   "execution_count": null,
   "id": "7ff5ddfb",
   "metadata": {},
   "outputs": [],
   "source": [
    "6. If a blank input is entered three times, what does inputStr(limit=3) do?"
   ]
  },
  {
   "cell_type": "code",
   "execution_count": null,
   "id": "719914d3",
   "metadata": {},
   "outputs": [],
   "source": [
    "The function will raise a 'pyinputplus.RetryLimitException'. This exception is raised when the user exceeds the specified limit for retries without providing valid input."
   ]
  },
  {
   "cell_type": "code",
   "execution_count": null,
   "id": "82259ad6",
   "metadata": {},
   "outputs": [],
   "source": [
    "7. If blank input is entered three times, what does inputStr(limit=3, default='hello') do?"
   ]
  },
  {
   "cell_type": "code",
   "execution_count": null,
   "id": "bd9e6f26",
   "metadata": {},
   "outputs": [],
   "source": [
    "It will return the default value 'hello' after the third blank input, and the function will not ask for additional retries."
   ]
  }
 ],
 "metadata": {
  "kernelspec": {
   "display_name": "Python 3 (ipykernel)",
   "language": "python",
   "name": "python3"
  },
  "language_info": {
   "codemirror_mode": {
    "name": "ipython",
    "version": 3
   },
   "file_extension": ".py",
   "mimetype": "text/x-python",
   "name": "python",
   "nbconvert_exporter": "python",
   "pygments_lexer": "ipython3",
   "version": "3.9.13"
  }
 },
 "nbformat": 4,
 "nbformat_minor": 5
}
