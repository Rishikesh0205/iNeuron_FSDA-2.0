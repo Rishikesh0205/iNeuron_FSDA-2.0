{
 "cells": [
  {
   "cell_type": "code",
   "execution_count": null,
   "id": "133c8720",
   "metadata": {},
   "outputs": [],
   "source": [
    "1. What is the relationship between def statements and lambda expressions ?"
   ]
  },
  {
   "cell_type": "code",
   "execution_count": null,
   "id": "3c2a1d8b",
   "metadata": {},
   "outputs": [],
   "source": [
    "def statement is used to define regular functions but lambda expression is used to define anonymous functions"
   ]
  },
  {
   "cell_type": "code",
   "execution_count": null,
   "id": "77fabe6e",
   "metadata": {},
   "outputs": [],
   "source": [
    "2. What is the benefit of lambda?"
   ]
  },
  {
   "cell_type": "code",
   "execution_count": null,
   "id": "c22fa438",
   "metadata": {},
   "outputs": [],
   "source": [
    "Benefits of lambda functions are\n",
    "a)Anonymity\n",
    "b)Consiness\n",
    "c)Readability\n",
    "d)Functional programming\n",
    "e)Flexibility"
   ]
  },
  {
   "cell_type": "code",
   "execution_count": null,
   "id": "beb073ea",
   "metadata": {},
   "outputs": [],
   "source": [
    "3. Compare and contrast map, filter, and reduce."
   ]
  },
  {
   "cell_type": "code",
   "execution_count": null,
   "id": "ea94348a",
   "metadata": {},
   "outputs": [],
   "source": [
    "map() function is used to apply a specified function to each element of an iterable and create a new iterable containing the results.\n",
    "\n",
    "filter() function is used to create a new iterable that contains elements from the original iterable that satisfy a specified condition or predicate function.\n",
    "\n",
    "reduce() function (from the functools module in Python 3) is used to accumulate values from an iterable by applying a specified function cumulatively to the items."
   ]
  },
  {
   "cell_type": "code",
   "execution_count": null,
   "id": "81244371",
   "metadata": {},
   "outputs": [],
   "source": [
    "4. What are function annotations, and how are they used?"
   ]
  },
  {
   "cell_type": "code",
   "execution_count": null,
   "id": "24fb33dd",
   "metadata": {},
   "outputs": [],
   "source": [
    "Function annotations in Python are a way to attach metadata or additional information to the parameters and return values of functions.\n",
    "\n",
    "Ways to use them are\n",
    "a)Parametre annotation\n",
    "b)Return value annotation\n",
    "c)Use of annotations\n",
    "d)Flexibility"
   ]
  },
  {
   "cell_type": "code",
   "execution_count": null,
   "id": "3c7ce633",
   "metadata": {},
   "outputs": [],
   "source": [
    "5. What are recursive functions, and how are they used?"
   ]
  },
  {
   "cell_type": "code",
   "execution_count": null,
   "id": "ada936b6",
   "metadata": {},
   "outputs": [],
   "source": [
    "Recursive functions are functions in which a function calls itself during its execution. \n",
    "\n",
    "They are used as\n",
    "a)Base Case\n",
    "b)Recursive Case"
   ]
  },
  {
   "cell_type": "code",
   "execution_count": null,
   "id": "c078b9c5",
   "metadata": {},
   "outputs": [],
   "source": [
    "6. What are some general design guidelines for coding functions?"
   ]
  },
  {
   "cell_type": "code",
   "execution_count": null,
   "id": "da7cde58",
   "metadata": {},
   "outputs": [],
   "source": [
    "General design guidelines are\n",
    "a)Descriptive function names\n",
    "b)Consistent parametre ordering\n",
    "c)Avoid global variables\n",
    "d)Avoid side effects"
   ]
  },
  {
   "cell_type": "code",
   "execution_count": null,
   "id": "4073e693",
   "metadata": {},
   "outputs": [],
   "source": [
    "7. Name three or more ways that functions can communicate results to a caller."
   ]
  },
  {
   "cell_type": "code",
   "execution_count": null,
   "id": "b6b277bd",
   "metadata": {},
   "outputs": [],
   "source": [
    "Ways through which functions can communicate results to a caller are\n",
    "a)Return Values\n",
    "b)Global variables\n",
    "c)In-place modifications\n",
    "d)Exceptions"
   ]
  }
 ],
 "metadata": {
  "kernelspec": {
   "display_name": "Python 3 (ipykernel)",
   "language": "python",
   "name": "python3"
  },
  "language_info": {
   "codemirror_mode": {
    "name": "ipython",
    "version": 3
   },
   "file_extension": ".py",
   "mimetype": "text/x-python",
   "name": "python",
   "nbconvert_exporter": "python",
   "pygments_lexer": "ipython3",
   "version": "3.9.13"
  }
 },
 "nbformat": 4,
 "nbformat_minor": 5
}
