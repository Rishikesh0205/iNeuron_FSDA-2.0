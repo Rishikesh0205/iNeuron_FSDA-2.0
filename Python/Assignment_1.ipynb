{
 "cells": [
  {
   "cell_type": "code",
   "execution_count": null,
   "id": "67417659",
   "metadata": {},
   "outputs": [],
   "source": [
    "1. In the below elements which of them are values or an expression? eg:- values can be\n",
    "integer or string and expressions will be mathematical operators.\n",
    "*\n",
    "&#39;hello&#39;\n",
    "-87.8\n",
    "-\n",
    "/\n",
    "+\n",
    "6"
   ]
  },
  {
   "cell_type": "code",
   "execution_count": null,
   "id": "726d724e",
   "metadata": {},
   "outputs": [],
   "source": [
    "Values:\n",
    "\n",
    "'hello' (string)\n",
    "-87.8 (floating-point number)\n",
    "6 (integer)\n",
    "\n",
    "Expressions:\n",
    "\n",
    "(multiplication operator)\n",
    "(subtraction operator)\n",
    "/ (division operator)\n",
    "(addition operator)"
   ]
  },
  {
   "cell_type": "code",
   "execution_count": null,
   "id": "602077cc",
   "metadata": {},
   "outputs": [],
   "source": [
    "2. What is the difference between string and variable?"
   ]
  },
  {
   "cell_type": "code",
   "execution_count": null,
   "id": "3db0327c",
   "metadata": {},
   "outputs": [],
   "source": [
    "In Python, a string is a data type that represents a sequence of characters, enclosed in single quotes ('') or double quotes (\"\"). Strings are used to store and manipulate textual data.\n",
    "\n",
    "A variable is a named container that holds a value. It is a way to assign a label to a value or an object in memory. Variables can store different types of data, including strings, numbers, lists, or even other objects."
   ]
  },
  {
   "cell_type": "code",
   "execution_count": null,
   "id": "2764678d",
   "metadata": {},
   "outputs": [],
   "source": [
    "3. Describe three different data types."
   ]
  },
  {
   "cell_type": "code",
   "execution_count": null,
   "id": "b98a0433",
   "metadata": {},
   "outputs": [],
   "source": [
    "3 different data types in Python are:\n",
    "    \n",
    "Integer (int):\n",
    "The integer data type represents whole numbers without any fractional or decimal parts. Integers can be positive, negative, or zero.\n",
    "\n",
    "String (str):\n",
    "The string data type represents a sequence of characters. Strings are used to store and manipulate textual data. In Python, strings are enclosed in single quotes ('') or double quotes (\"\"). For example: 'Hello', \"World!\". Strings can contain letters, numbers, symbols, and spaces. They are commonly used for displaying text, input/output operations, and text manipulation.\n",
    "\n",
    "Boolean (bool):\n",
    "The boolean data type represents one of two values: True or False. Booleans are used for logical operations and comparisons. They are often the result of conditional statements or logical operations. Booleans are useful for making decisions and controlling the flow of a program. For example, a comparison like 5 > 3 would evaluate to True, while 10 == 7 would evaluate to False."
   ]
  },
  {
   "cell_type": "code",
   "execution_count": null,
   "id": "8dc0d83d",
   "metadata": {},
   "outputs": [],
   "source": [
    "4. What is an expression made up of? What do all expressions do?"
   ]
  },
  {
   "cell_type": "code",
   "execution_count": null,
   "id": "201c658d",
   "metadata": {},
   "outputs": [],
   "source": [
    "An expression is a combination of values, variables, operators, and function calls that evaluates to a single value. Expressions can be as simple as a single value or as complex as a combination of multiple components.\n",
    "\n",
    "Expressions can include the following elements:\n",
    "\n",
    "Values: These can be literals, such as numbers (e.g., 5, 3.14) or strings (e.g., \"hello\", 'world'), or they can be variables that hold values.\n",
    "\n",
    "Variables: These are names that represent a value or an object in memory. Variables are used to store and manipulate data.\n",
    "\n",
    "Operators: These are symbols or keywords that perform operations on values or variables. Examples of operators in Python include arithmetic operators (+, -, *, /), comparison operators (==, <, >), logical operators (and, or, not), and assignment operators (=).\n",
    "\n",
    "Function calls: These are expressions that invoke functions. Functions are reusable blocks of code that perform specific tasks. Function calls can have arguments passed inside parentheses and may return a value."
   ]
  },
  {
   "cell_type": "code",
   "execution_count": null,
   "id": "087a15cb",
   "metadata": {},
   "outputs": [],
   "source": [
    "5. This assignment statements, like spam = 10. What is the difference between an\n",
    "expression and a statement?"
   ]
  },
  {
   "cell_type": "code",
   "execution_count": null,
   "id": "55422086",
   "metadata": {},
   "outputs": [],
   "source": [
    "An expression and statement are both crucial in Python but they serve different purpose\n",
    "\n",
    "Expression is a combination of values, variables, operators and function calls. When an expression is executed it produces a value.\n",
    "\n",
    "Statement is a unit of code that performs an action or series of actions.They are used to control flow of programme, modify variables etc."
   ]
  },
  {
   "cell_type": "code",
   "execution_count": null,
   "id": "6bade03e",
   "metadata": {},
   "outputs": [],
   "source": [
    "6. After running the following code, what does the variable bacon contain?\n",
    "bacon = 22\n",
    "bacon + 1"
   ]
  },
  {
   "cell_type": "code",
   "execution_count": null,
   "id": "a0aef606",
   "metadata": {},
   "outputs": [],
   "source": [
    "23"
   ]
  },
  {
   "cell_type": "markdown",
   "id": "0e89331d",
   "metadata": {},
   "source": [
    "7. What should the values of the following two terms be?\n",
    "'spam'+'spamspam'\n",
    "'spam'*3"
   ]
  },
  {
   "cell_type": "code",
   "execution_count": null,
   "id": "8a5a2605",
   "metadata": {},
   "outputs": [],
   "source": [
    "1st output: 'spamspamspam'\n",
    "2nd Output: 'spamspamspam'"
   ]
  },
  {
   "cell_type": "code",
   "execution_count": null,
   "id": "7b81efc0",
   "metadata": {},
   "outputs": [],
   "source": [
    "8.Why is eggs a valid variable name while 100 is invalid?"
   ]
  },
  {
   "cell_type": "code",
   "execution_count": null,
   "id": "789770da",
   "metadata": {},
   "outputs": [],
   "source": [
    "This is because variable name can not start with a digit. They must start with a letter or an underscore."
   ]
  },
  {
   "cell_type": "code",
   "execution_count": null,
   "id": "2ee0126e",
   "metadata": {},
   "outputs": [],
   "source": [
    "9. What three functions can be used to get the integer, floating-point number, or string\n",
    "version of a value?"
   ]
  },
  {
   "cell_type": "code",
   "execution_count": null,
   "id": "534ba545",
   "metadata": {},
   "outputs": [],
   "source": [
    "We can obtain through 3 built in functions such as\n",
    "1) Int(): To convert a value to integer.\n",
    "2)float(): Converts a value into floating point number\n",
    "3)Str(): converts a value into string"
   ]
  },
  {
   "cell_type": "code",
   "execution_count": null,
   "id": "3b4ff7af",
   "metadata": {},
   "outputs": [],
   "source": [
    "10. Why does this expression cause an error? How can you fix it?\n",
    "'I have eaten' + 99 +'burritos'"
   ]
  },
  {
   "cell_type": "code",
   "execution_count": null,
   "id": "0e18367f",
   "metadata": {},
   "outputs": [],
   "source": [
    "This expression is causing error because it tries to concatenate a string and an integar. This error can be resolved by converting integar into a string and then performing concatenation.\n",
    "Correct expression: 'I have eaten ' + str(99) + ' burritos'"
   ]
  }
 ],
 "metadata": {
  "kernelspec": {
   "display_name": "Python 3 (ipykernel)",
   "language": "python",
   "name": "python3"
  },
  "language_info": {
   "codemirror_mode": {
    "name": "ipython",
    "version": 3
   },
   "file_extension": ".py",
   "mimetype": "text/x-python",
   "name": "python",
   "nbconvert_exporter": "python",
   "pygments_lexer": "ipython3",
   "version": "3.9.13"
  }
 },
 "nbformat": 4,
 "nbformat_minor": 5
}
